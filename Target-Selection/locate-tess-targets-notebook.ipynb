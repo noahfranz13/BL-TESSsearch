{
 "cells": [
  {
   "cell_type": "code",
   "execution_count": 1,
   "metadata": {},
   "outputs": [
    {
     "name": "stderr",
     "output_type": "stream",
     "text": [
      "WARNING: AstropyDeprecationWarning: The private astropy._erfa module has been made into its own package, pyerfa, which is a dependency of astropy and can be imported directly using \"import erfa\" [astropy._erfa]\n"
     ]
    }
   ],
   "source": [
    "import pymysql\n",
    "import pandas as pd\n",
    "import numpy as np\n",
    "import urllib\n",
    "import os\n",
    "\n",
    "from barycorrpy import utc_tdb\n",
    "\n",
    "from astropy.time import Time\n",
    "from astropy.coordinates import EarthLocation, SkyCoord\n",
    "from astropy import units as u"
   ]
  },
  {
   "cell_type": "code",
   "execution_count": 11,
   "metadata": {},
   "outputs": [
    {
     "name": "stdout",
     "output_type": "stream",
     "text": [
      "env: BLUSR=interns\n",
      "env: BLIP=104.154.94.28\n",
      "env: BLPASS=FZtjWD3B4Yv5aq3m\n"
     ]
    }
   ],
   "source": [
    "%set_env BLUSR=interns\n",
    "%set_env BLIP=104.154.94.28\n",
    "%set_env BLPASS=FZtjWD3B4Yv5aq3m"
   ]
  },
  {
   "cell_type": "code",
   "execution_count": 12,
   "metadata": {},
   "outputs": [],
   "source": [
    "# Get GBT TESS Targets os.environ['BLIP']\n",
    "\n",
    "BLtargets = pymysql.connect(host=os.environ['BLIP'],user=os.environ['BLUSR'],\n",
    "            password=os.environ['BLPASS'],database=\"BLtargets\")\n",
    "\n",
    "BLquery = \"\"\"\n",
    "SELECT *\n",
    "FROM go_scans\n",
    "WHERE target_name LIKE 'TIC%'\n",
    "\"\"\"\n",
    "\n",
    "go_scans = pd.read_sql(BLquery, BLtargets)"
   ]
  },
  {
   "cell_type": "code",
   "execution_count": 16,
   "metadata": {},
   "outputs": [
    {
     "data": {
      "text/plain": [
       "4074"
      ]
     },
     "execution_count": 16,
     "metadata": {},
     "output_type": "execute_result"
    }
   ],
   "source": [
    "# Get full dataframe of TESS candidates\n",
    "\n",
    "toiPath = os.path.join(os.getcwd(), 'TESS-toi.csv')\n",
    "urllib.request.urlretrieve('https://exofop.ipac.caltech.edu/tess/download_toi.php?sort=toi&output=csv', toiPath)\n",
    "TESStoi = pd.read_csv(toiPath)"
   ]
  },
  {
   "cell_type": "code",
   "execution_count": 13,
   "metadata": {},
   "outputs": [],
   "source": [
    "go_scans['TIC ID'] = go_scans.target_name.apply(lambda v : int(v[3:]))\n",
    "gbt = go_scans[['TIC ID', 'target_name', 'utc_observed', 'session']]"
   ]
  },
  {
   "cell_type": "code",
   "execution_count": 14,
   "metadata": {},
   "outputs": [],
   "source": [
    "inTransitID = []\n",
    "inTransitSession = []\n",
    "gbtloc = EarthLocation.of_site('Green Bank Telescope')\n",
    "\n",
    "for ticid in gbt['TIC ID'].unique():\n",
    "    \n",
    "    gbtInfo = gbt.loc[gbt['TIC ID'] == ticid]\n",
    "    TESSinfo = TESStoi.loc[TESStoi['TIC ID'] == ticid]\n",
    "    \n",
    "    epoch = TESSinfo['Epoch (BJD)'].to_numpy()[0] # BJD\n",
    "    period = TESSinfo['Period (days)'].to_numpy()[0]\n",
    "    transitLength = TESSinfo['Duration (hours)'].to_numpy()[0]\n",
    "    dist = TESSinfo['Stellar Distance (pc)'].to_numpy()[0]\n",
    "    PMRA = float(TESSinfo['PM RA (mas/yr)'].to_numpy()[0])\n",
    "    PMdec = float(TESSinfo['PM Dec (mas/yr)'].to_numpy()[0])\n",
    "    \n",
    "    ra = TESSinfo['RA'].to_numpy()[0]\n",
    "    dec = TESSinfo['Dec'].to_numpy()[0]\n",
    "    coords = SkyCoord(ra, dec, unit=(u.hourangle, u.deg), frame='icrs')\n",
    "    \n",
    "    obsTime = gbtInfo['utc_observed'].to_numpy()\n",
    "    session = gbtInfo['session'].to_numpy()\n",
    "    \n",
    "    parallax = (1/dist) * 10**(-3) # units of mas\n",
    "    \n",
    "    \n",
    "        \n",
    "    # Convert Observed time to BJD\n",
    "    tUTC = Time(obsTime, location=gbtloc)\n",
    "    tbjd = utc_tdb.JDUTC_to_BJDTDB(tUTC, ra=float(coords.to_string().split()[0]), \n",
    "                                       dec=float(coords.to_string().split()[1]), \n",
    "                                       pmra=PMRA, pmdec=PMdec, \n",
    "                                       px= parallax, obsname='Green Bank Telescope')[0]\n",
    "\n",
    "    tbjd = tbjd[np.isfinite(tbjd)]\n",
    "\n",
    "    # Does the GBT observation occur during a transit?\n",
    "    if len(obsTime) >= 3 and period != 0: # Check for at least 3 obs and remove 'nan' entries\n",
    "        \n",
    "        tt = transitLength/24/2 # half transit time and convert to days\n",
    "        \n",
    "        # Create list of center transit times for each ticid\n",
    "        \n",
    "        for ii, obst in enumerate(tbjd):\n",
    "            diff = np.abs(obst-epoch)\n",
    "            numRot = int(np.ceil(diff/period))\n",
    "            \n",
    "            centerTransitTimes = []\n",
    "            t = epoch\n",
    "            for i in range(numRot):\n",
    "                centerTransitTimes.append(t)\n",
    "                if obst < epoch:\n",
    "                    t-=period\n",
    "                else:\n",
    "                    t+=period\n",
    "            \n",
    "            if np.abs(centerTransitTimes[-1] - obst) > period:\n",
    "                print(f'{centerTransitTimes[-1] - obst} is outside one period')  \n",
    "                \n",
    "            epochf = centerTransitTimes[-1]\n",
    "            startTransit = epochf - tt\n",
    "            endTransit = epochf + tt\n",
    "            \n",
    "            if obst > startTransit and obst < endTransit:\n",
    "                inTransitID.append(ticid)\n",
    "                inTransitSession.append(session[ii])"
   ]
  },
  {
   "cell_type": "code",
   "execution_count": 15,
   "metadata": {},
   "outputs": [],
   "source": [
    "outFrame = []\n",
    "\n",
    "for tic, sess in zip(inTransitID, inTransitSession):\n",
    "\n",
    "    mask = (go_scans['TIC ID'] == tic) & (go_scans['session'] == sess)\n",
    "    \n",
    "    if len(mask[mask==True]) >= 3:\n",
    "        outFrame.append(go_scans[mask])\n",
    "\n",
    "targets = pd.concat(outFrame).drop_duplicates()\n",
    "\n",
    "outFilePath = os.path.join(os.getcwd(), 'TESStargets.csv')\n",
    "    \n",
    "targets.to_csv(outFilePath)"
   ]
  },
  {
   "cell_type": "code",
   "execution_count": 16,
   "metadata": {},
   "outputs": [
    {
     "name": "stdout",
     "output_type": "stream",
     "text": [
      "61 TESS targets found in transit\n"
     ]
    }
   ],
   "source": [
    "print(f'{len(targets.target_name.unique())} TESS targets found in transit')"
   ]
  },
  {
   "cell_type": "code",
   "execution_count": 17,
   "metadata": {},
   "outputs": [
    {
     "data": {
      "text/plain": [
       "(6.192893401015229, 1.5975380571030842)"
      ]
     },
     "execution_count": 17,
     "metadata": {},
     "output_type": "execute_result"
    }
   ],
   "source": [
    "perRecovered = len(targets.target_name.unique()) / len(go_scans['TIC ID'].unique()) * 100\n",
    "\n",
    "estPer = (np.mean(TESStoi['Duration (hours)'])/24) / np.mean(TESStoi['Period (days)']) * 100\n",
    "\n",
    "perRecovered, estPer"
   ]
  },
  {
   "cell_type": "code",
   "execution_count": null,
   "metadata": {},
   "outputs": [],
   "source": []
  }
 ],
 "metadata": {
  "kernelspec": {
   "display_name": "Python 3",
   "language": "python",
   "name": "python3"
  },
  "language_info": {
   "codemirror_mode": {
    "name": "ipython",
    "version": 3
   },
   "file_extension": ".py",
   "mimetype": "text/x-python",
   "name": "python",
   "nbconvert_exporter": "python",
   "pygments_lexer": "ipython3",
   "version": "3.8.5"
  }
 },
 "nbformat": 4,
 "nbformat_minor": 4
}
