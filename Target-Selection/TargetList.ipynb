{
 "cells": [
  {
   "cell_type": "markdown",
   "metadata": {},
   "source": [
    "# General Plotting and Target Analysis"
   ]
  },
  {
   "cell_type": "code",
   "execution_count": 1,
   "metadata": {},
   "outputs": [],
   "source": [
    "import pandas as pd\n",
    "import numpy as np\n",
    "import os"
   ]
  },
  {
   "cell_type": "code",
   "execution_count": 2,
   "metadata": {},
   "outputs": [],
   "source": [
    "targets = pd.read_csv('TESStargets.csv').drop_duplicates(['target_name', 'receiver']).reset_index()"
   ]
  },
  {
   "cell_type": "code",
   "execution_count": 3,
   "metadata": {},
   "outputs": [
    {
     "data": {
      "text/plain": [
       "Index(['TIC ID', 'TOI', 'Previous CTOI', 'Master', 'SG1A', 'SG1B', 'SG2',\n",
       "       'SG3', 'SG4', 'SG5', 'ACWG ESM', 'ACWG TSM', 'Time Series Observations',\n",
       "       'Spectroscopy Observations', 'Imaging Observations', 'TESS Disposition',\n",
       "       'TFOPWG Disposition', 'TESS Mag', 'TESS Mag err', 'Planet Name',\n",
       "       'Pipeline Signal ID', 'Source', 'RA', 'Dec', 'PM RA (mas/yr)',\n",
       "       'PM RA err (mas/yr)', 'PM Dec (mas/yr)', 'PM Dec err (mas/yr)',\n",
       "       'Epoch (BJD)', 'Epoch (BJD) err', 'Period (days)', 'Period (days) err',\n",
       "       'Duration (hours)', 'Duration (hours) err', 'Depth (mmag)',\n",
       "       'Depth (mmag) err', 'Depth (ppm)', 'Depth (ppm) err',\n",
       "       'Planet Radius (R_Earth)', 'Planet Radius (R_Earth) err',\n",
       "       'Planet Insolation (Earth Flux)', 'Planet Equil Temp (K)', 'Planet SNR',\n",
       "       'Stellar Distance (pc)', 'Stellar Distance (pc) err',\n",
       "       'Stellar Eff Temp (K)', 'Stellar Eff Temp (K) err',\n",
       "       'Stellar log(g) (cm/s^2)', 'Stellar log(g) (cm/s^2) err',\n",
       "       'Stellar Radius (R_Sun)', 'Stellar Radius (R_Sun) err',\n",
       "       'Stellar Metallicity', ' Stellar Metallicity err', 'Sectors',\n",
       "       'Date TOI Alerted (UTC)', 'Date TOI Updated (UTC)', 'Date Modified',\n",
       "       'Comments'],\n",
       "      dtype='object')"
      ]
     },
     "execution_count": 3,
     "metadata": {},
     "output_type": "execute_result"
    }
   ],
   "source": [
    "tois = pd.read_csv('tess-toi.csv')\n",
    "tois.keys()"
   ]
  },
  {
   "cell_type": "code",
   "execution_count": 4,
   "metadata": {},
   "outputs": [
    {
     "name": "stderr",
     "output_type": "stream",
     "text": [
      "<ipython-input-4-0b393db51c99>:12: SettingWithCopyWarning: \n",
      "A value is trying to be set on a copy of a slice from a DataFrame\n",
      "\n",
      "See the caveats in the documentation: https://pandas.pydata.org/pandas-docs/stable/user_guide/indexing.html#returning-a-view-versus-a-copy\n",
      "  targets['distance'][ii] = float(tois['Stellar Distance (pc)'][whereTarget])\n",
      "<ipython-input-4-0b393db51c99>:13: SettingWithCopyWarning: \n",
      "A value is trying to be set on a copy of a slice from a DataFrame\n",
      "\n",
      "See the caveats in the documentation: https://pandas.pydata.org/pandas-docs/stable/user_guide/indexing.html#returning-a-view-versus-a-copy\n",
      "  targets['period'][ii] = float(tois['Period (days)'][whereTarget])\n",
      "<ipython-input-4-0b393db51c99>:14: SettingWithCopyWarning: \n",
      "A value is trying to be set on a copy of a slice from a DataFrame\n",
      "\n",
      "See the caveats in the documentation: https://pandas.pydata.org/pandas-docs/stable/user_guide/indexing.html#returning-a-view-versus-a-copy\n",
      "  targets['TOI'][ii] = float(tois['TOI'][whereTarget])\n"
     ]
    }
   ],
   "source": [
    "targets['distance'] = np.ones(len(targets.target_name))\n",
    "targets['period'] = np.ones(len(targets.target_name))\n",
    "targets['TOI'] = np.ones(len(targets.target_name))\n",
    "\n",
    "uqTargets = {'Target Name': [], 'Band': []}\n",
    "\n",
    "for ii, tt in enumerate(targets.target_name):\n",
    "    whereTarget = np.where(int(tt[3:]) == tois['TIC ID'])[0]\n",
    "    \n",
    "    #print(float(tois['Stellar Distance (pc)'][whereTarget]))\n",
    "    \n",
    "    targets['distance'][ii] = float(tois['Stellar Distance (pc)'][whereTarget])\n",
    "    targets['period'][ii] = float(tois['Period (days)'][whereTarget])\n",
    "    targets['TOI'][ii] = float(tois['TOI'][whereTarget])\n",
    "    \n",
    "for target in targets.target_name.unique():\n",
    "    \n",
    "    uqTargets['Target Name'].append(target)\n",
    "    \n",
    "    whereTarg = np.where(target == targets.target_name.to_numpy())[0]\n",
    "    \n",
    "    band = ''\n",
    "    for index in whereTarg:\n",
    "        rcv = targets.receiver.to_numpy()[index]\n",
    "        \n",
    "        if rcv == 'Rcvr1_2':\n",
    "            band += 'L'\n",
    "        elif rcv == 'Rcvr2_3':\n",
    "            band += 'S'\n",
    "        elif rcv == 'Rcvr4_6':\n",
    "            band += 'C'\n",
    "        else:\n",
    "            band += 'X'\n",
    "            \n",
    "    uqTargets['Band'].append(band)"
   ]
  },
  {
   "cell_type": "code",
   "execution_count": 5,
   "metadata": {},
   "outputs": [],
   "source": [
    "targInfo = targets.drop_duplicates('target_name')\n",
    "\n",
    "uqTargets['Time (UTC)'] = targInfo.utc_observed\n",
    "uqTargets['RA (hrs)'] = targInfo.ra_hrs\n",
    "uqTargets['Dec ($^\\circ$)'] = targInfo.dec_deg\n",
    "uqTargets['Distance (pc)'] = targInfo.distance\n",
    "uqTargets['Orbital Period (days)'] = targInfo.period\n",
    "uqTargets['TOI'] = targInfo.TOI"
   ]
  },
  {
   "cell_type": "code",
   "execution_count": 6,
   "metadata": {},
   "outputs": [],
   "source": [
    "targs = pd.DataFrame(uqTargets).reset_index()"
   ]
  },
  {
   "cell_type": "code",
   "execution_count": 7,
   "metadata": {},
   "outputs": [
    {
     "name": "stdout",
     "output_type": "stream",
     "text": [
      "0      C\n",
      "1      C\n",
      "2      S\n",
      "3     SC\n",
      "4      S\n",
      "      ..\n",
      "56     C\n",
      "57     X\n",
      "58     X\n",
      "59     S\n",
      "60     C\n",
      "Name: Band, Length: 61, dtype: object\n",
      "S, C\n",
      "S, X\n",
      "C, X, S\n"
     ]
    },
    {
     "name": "stderr",
     "output_type": "stream",
     "text": [
      "<ipython-input-7-9344bcc96a46>:6: SettingWithCopyWarning: \n",
      "A value is trying to be set on a copy of a slice from a DataFrame\n",
      "\n",
      "See the caveats in the documentation: https://pandas.pydata.org/pandas-docs/stable/user_guide/indexing.html#returning-a-view-versus-a-copy\n",
      "  targs.Band[ii] = newBand\n"
     ]
    }
   ],
   "source": [
    "print(targs.Band)\n",
    "for ii, band in enumerate(targs.Band):\n",
    "    if len(band) > 1:\n",
    "        newBand = \", \".join([band[i] for i in range(0, len(band))])\n",
    "        print(newBand)\n",
    "        targs.Band[ii] = newBand"
   ]
  },
  {
   "cell_type": "code",
   "execution_count": 8,
   "metadata": {},
   "outputs": [
    {
     "data": {
      "text/html": [
       "<div>\n",
       "<style scoped>\n",
       "    .dataframe tbody tr th:only-of-type {\n",
       "        vertical-align: middle;\n",
       "    }\n",
       "\n",
       "    .dataframe tbody tr th {\n",
       "        vertical-align: top;\n",
       "    }\n",
       "\n",
       "    .dataframe thead th {\n",
       "        text-align: right;\n",
       "    }\n",
       "</style>\n",
       "<table border=\"1\" class=\"dataframe\">\n",
       "  <thead>\n",
       "    <tr style=\"text-align: right;\">\n",
       "      <th></th>\n",
       "      <th>index</th>\n",
       "      <th>Target Name</th>\n",
       "      <th>Band</th>\n",
       "      <th>Time (UTC)</th>\n",
       "      <th>RA (hrs)</th>\n",
       "      <th>Dec ($^\\circ$)</th>\n",
       "      <th>Distance (pc)</th>\n",
       "      <th>Orbital Period (days)</th>\n",
       "      <th>TOI</th>\n",
       "    </tr>\n",
       "  </thead>\n",
       "  <tbody>\n",
       "    <tr>\n",
       "      <th>0</th>\n",
       "      <td>0</td>\n",
       "      <td>TIC438490744</td>\n",
       "      <td>C</td>\n",
       "      <td>2021-05-31 21:36:00</td>\n",
       "      <td>6.683726</td>\n",
       "      <td>16.589710</td>\n",
       "      <td>63.0507</td>\n",
       "      <td>1.665878</td>\n",
       "      <td>529.01</td>\n",
       "    </tr>\n",
       "    <tr>\n",
       "      <th>1</th>\n",
       "      <td>1</td>\n",
       "      <td>TIC147950620</td>\n",
       "      <td>C</td>\n",
       "      <td>2020-06-14 20:37:06</td>\n",
       "      <td>11.188091</td>\n",
       "      <td>69.964782</td>\n",
       "      <td>149.6670</td>\n",
       "      <td>2.310602</td>\n",
       "      <td>1194.01</td>\n",
       "    </tr>\n",
       "    <tr>\n",
       "      <th>2</th>\n",
       "      <td>2</td>\n",
       "      <td>TIC458478250</td>\n",
       "      <td>S</td>\n",
       "      <td>2019-11-24 23:54:33</td>\n",
       "      <td>15.476437</td>\n",
       "      <td>66.358710</td>\n",
       "      <td>126.2610</td>\n",
       "      <td>2.255296</td>\n",
       "      <td>1165.01</td>\n",
       "    </tr>\n",
       "    <tr>\n",
       "      <th>3</th>\n",
       "      <td>3</td>\n",
       "      <td>TIC344926234</td>\n",
       "      <td>S, C</td>\n",
       "      <td>2019-11-24 14:43:30</td>\n",
       "      <td>10.103831</td>\n",
       "      <td>3.946493</td>\n",
       "      <td>92.8368</td>\n",
       "      <td>0.493590</td>\n",
       "      <td>634.01</td>\n",
       "    </tr>\n",
       "    <tr>\n",
       "      <th>4</th>\n",
       "      <td>5</td>\n",
       "      <td>TIC78154865</td>\n",
       "      <td>S</td>\n",
       "      <td>2020-02-27 01:37:33</td>\n",
       "      <td>9.857821</td>\n",
       "      <td>-4.123319</td>\n",
       "      <td>96.6355</td>\n",
       "      <td>0.493826</td>\n",
       "      <td>638.01</td>\n",
       "    </tr>\n",
       "    <tr>\n",
       "      <th>...</th>\n",
       "      <td>...</td>\n",
       "      <td>...</td>\n",
       "      <td>...</td>\n",
       "      <td>...</td>\n",
       "      <td>...</td>\n",
       "      <td>...</td>\n",
       "      <td>...</td>\n",
       "      <td>...</td>\n",
       "      <td>...</td>\n",
       "    </tr>\n",
       "    <tr>\n",
       "      <th>56</th>\n",
       "      <td>60</td>\n",
       "      <td>TIC154741689</td>\n",
       "      <td>C</td>\n",
       "      <td>2021-03-17 06:56:40</td>\n",
       "      <td>10.954246</td>\n",
       "      <td>89.086918</td>\n",
       "      <td>206.3680</td>\n",
       "      <td>9.276880</td>\n",
       "      <td>2170.01</td>\n",
       "    </tr>\n",
       "    <tr>\n",
       "      <th>57</th>\n",
       "      <td>61</td>\n",
       "      <td>TIC427730490</td>\n",
       "      <td>X</td>\n",
       "      <td>2021-03-22 20:38:42</td>\n",
       "      <td>23.484977</td>\n",
       "      <td>71.506468</td>\n",
       "      <td>144.7170</td>\n",
       "      <td>3.860850</td>\n",
       "      <td>2040.01</td>\n",
       "    </tr>\n",
       "    <tr>\n",
       "      <th>58</th>\n",
       "      <td>62</td>\n",
       "      <td>TIC321688498</td>\n",
       "      <td>X</td>\n",
       "      <td>2021-03-22 22:53:26</td>\n",
       "      <td>21.439967</td>\n",
       "      <td>68.640525</td>\n",
       "      <td>58.0924</td>\n",
       "      <td>0.386230</td>\n",
       "      <td>2290.01</td>\n",
       "    </tr>\n",
       "    <tr>\n",
       "      <th>59</th>\n",
       "      <td>63</td>\n",
       "      <td>TIC393911494</td>\n",
       "      <td>S</td>\n",
       "      <td>2021-03-28 11:38:19</td>\n",
       "      <td>13.811891</td>\n",
       "      <td>44.911761</td>\n",
       "      <td>121.1670</td>\n",
       "      <td>0.633259</td>\n",
       "      <td>2106.01</td>\n",
       "    </tr>\n",
       "    <tr>\n",
       "      <th>60</th>\n",
       "      <td>64</td>\n",
       "      <td>TIC285542903</td>\n",
       "      <td>C</td>\n",
       "      <td>2021-04-19 17:49:25</td>\n",
       "      <td>0.884664</td>\n",
       "      <td>60.618116</td>\n",
       "      <td>914.0620</td>\n",
       "      <td>2.265840</td>\n",
       "      <td>2060.01</td>\n",
       "    </tr>\n",
       "  </tbody>\n",
       "</table>\n",
       "<p>61 rows × 9 columns</p>\n",
       "</div>"
      ],
      "text/plain": [
       "    index   Target Name  Band           Time (UTC)   RA (hrs)  Dec ($^\\circ$)  \\\n",
       "0       0  TIC438490744     C  2021-05-31 21:36:00   6.683726       16.589710   \n",
       "1       1  TIC147950620     C  2020-06-14 20:37:06  11.188091       69.964782   \n",
       "2       2  TIC458478250     S  2019-11-24 23:54:33  15.476437       66.358710   \n",
       "3       3  TIC344926234  S, C  2019-11-24 14:43:30  10.103831        3.946493   \n",
       "4       5   TIC78154865     S  2020-02-27 01:37:33   9.857821       -4.123319   \n",
       "..    ...           ...   ...                  ...        ...             ...   \n",
       "56     60  TIC154741689     C  2021-03-17 06:56:40  10.954246       89.086918   \n",
       "57     61  TIC427730490     X  2021-03-22 20:38:42  23.484977       71.506468   \n",
       "58     62  TIC321688498     X  2021-03-22 22:53:26  21.439967       68.640525   \n",
       "59     63  TIC393911494     S  2021-03-28 11:38:19  13.811891       44.911761   \n",
       "60     64  TIC285542903     C  2021-04-19 17:49:25   0.884664       60.618116   \n",
       "\n",
       "    Distance (pc)  Orbital Period (days)      TOI  \n",
       "0         63.0507               1.665878   529.01  \n",
       "1        149.6670               2.310602  1194.01  \n",
       "2        126.2610               2.255296  1165.01  \n",
       "3         92.8368               0.493590   634.01  \n",
       "4         96.6355               0.493826   638.01  \n",
       "..            ...                    ...      ...  \n",
       "56       206.3680               9.276880  2170.01  \n",
       "57       144.7170               3.860850  2040.01  \n",
       "58        58.0924               0.386230  2290.01  \n",
       "59       121.1670               0.633259  2106.01  \n",
       "60       914.0620               2.265840  2060.01  \n",
       "\n",
       "[61 rows x 9 columns]"
      ]
     },
     "execution_count": 8,
     "metadata": {},
     "output_type": "execute_result"
    }
   ],
   "source": [
    "targs"
   ]
  },
  {
   "cell_type": "code",
   "execution_count": 9,
   "metadata": {
    "scrolled": true
   },
   "outputs": [
    {
     "data": {
      "image/png": "[encoded data removed]",
      "text/plain": [
       "<Figure size 1008x576 with 1 Axes>"
      ]
     },
     "metadata": {
      "needs_background": "light"
     },
     "output_type": "display_data"
    }
   ],
   "source": [
    "import matplotlib.pyplot as plt\n",
    "from matplotlib import rcParams\n",
    "from matplotlib.ticker import PercentFormatter\n",
    "from cycler import cycler\n",
    "ticksize = 6\n",
    "\n",
    "rcParams['axes.prop_cycle'] = cycler(color=['seagreen','firebrick','dodgerblue',   'darkmagenta', 'burlywood'])\n",
    "plt.rcParams.update({'font.size' : 18, 'font.family' : 'serif', 'xtick.major.size' : ticksize, 'ytick.major.size' : ticksize,\n",
    "                    'xtick.minor.size' : ticksize/2, 'ytick.minor.size' : ticksize/2})\n",
    "\n",
    "fig, ax = plt.subplots(1, figsize=(14,8))\n",
    "ax.hist(targs['Orbital Period (days)'], bins=20, range=(0,10), edgecolor='k')\n",
    "#ax.set_xlim(0, 10)\n",
    "ax.set_xlabel('Orbital Period [days]')\n",
    "ax.set_ylabel('Number of Observations')\n",
    "ax.set_xticks(np.arange(0,11));\n",
    "plt.savefig(os.path.join(os.getenv('HOME'), 'Downloads', 'TargetPeriodsHist.png'))"
   ]
  },
  {
   "cell_type": "code",
   "execution_count": 10,
   "metadata": {},
   "outputs": [],
   "source": [
    "import os\n",
    "\n",
    "targs.to_csv(os.path.join(os.getenv('HOME'), 'Downloads', 'TargetInfoList.csv'))"
   ]
  },
  {
   "cell_type": "code",
   "execution_count": 11,
   "metadata": {},
   "outputs": [
    {
     "data": {
      "text/plain": [
       "Index(['TIC ID', 'TOI', 'Previous CTOI', 'Master', 'SG1A', 'SG1B', 'SG2',\n",
       "       'SG3', 'SG4', 'SG5', 'ACWG ESM', 'ACWG TSM', 'Time Series Observations',\n",
       "       'Spectroscopy Observations', 'Imaging Observations', 'TESS Disposition',\n",
       "       'TFOPWG Disposition', 'TESS Mag', 'TESS Mag err', 'Planet Name',\n",
       "       'Pipeline Signal ID', 'Source', 'RA', 'Dec', 'PM RA (mas/yr)',\n",
       "       'PM RA err (mas/yr)', 'PM Dec (mas/yr)', 'PM Dec err (mas/yr)',\n",
       "       'Epoch (BJD)', 'Epoch (BJD) err', 'Period (days)', 'Period (days) err',\n",
       "       'Duration (hours)', 'Duration (hours) err', 'Depth (mmag)',\n",
       "       'Depth (mmag) err', 'Depth (ppm)', 'Depth (ppm) err',\n",
       "       'Planet Radius (R_Earth)', 'Planet Radius (R_Earth) err',\n",
       "       'Planet Insolation (Earth Flux)', 'Planet Equil Temp (K)', 'Planet SNR',\n",
       "       'Stellar Distance (pc)', 'Stellar Distance (pc) err',\n",
       "       'Stellar Eff Temp (K)', 'Stellar Eff Temp (K) err',\n",
       "       'Stellar log(g) (cm/s^2)', 'Stellar log(g) (cm/s^2) err',\n",
       "       'Stellar Radius (R_Sun)', 'Stellar Radius (R_Sun) err',\n",
       "       'Stellar Metallicity', ' Stellar Metallicity err', 'Sectors',\n",
       "       'Date TOI Alerted (UTC)', 'Date TOI Updated (UTC)', 'Date Modified',\n",
       "       'Comments'],\n",
       "      dtype='object')"
      ]
     },
     "execution_count": 11,
     "metadata": {},
     "output_type": "execute_result"
    }
   ],
   "source": [
    "tois.keys()"
   ]
  },
  {
   "cell_type": "code",
   "execution_count": 12,
   "metadata": {},
   "outputs": [
    {
     "name": "stdout",
     "output_type": "stream",
     "text": [
      "Number of TOIs with transit time less than 0.5 hours: 31\n",
      "Percent of TOIs with transit time less than 0.5 hours: 0.7398568019093079\n"
     ]
    }
   ],
   "source": [
    "# Get fraction of tois with period less than 30 minutes\n",
    "\n",
    "nLess30 = len(tois[tois['Duration (hours)'] <= 0.5])\n",
    "n = len(tois)\n",
    "\n",
    "print(f'Number of TOIs with transit time less than 0.5 hours: {nLess30}')\n",
    "print(f'Percent of TOIs with transit time less than 0.5 hours: {nLess30/n * 100}')"
   ]
  },
  {
   "cell_type": "markdown",
   "metadata": {},
   "source": [
    "# Calculate Drift Rates\n",
    "Taken from https://github.com/bricktoast/Test-Drift-Rates/blob/main/trappist_1/Trappist_1_Drift_Rates.ipynb"
   ]
  },
  {
   "cell_type": "code",
   "execution_count": 13,
   "metadata": {},
   "outputs": [
    {
     "name": "stdout",
     "output_type": "stream",
     "text": [
      "Requirement already satisfied: PyAstronomy in c:\\users\\noahf\\miniconda3\\lib\\site-packages (0.16.0)\n",
      "Requirement already satisfied: six in c:\\users\\noahf\\miniconda3\\lib\\site-packages (from PyAstronomy) (1.15.0)\n",
      "Requirement already satisfied: numpy in c:\\users\\noahf\\miniconda3\\lib\\site-packages (from PyAstronomy) (1.20.2)\n"
     ]
    }
   ],
   "source": [
    "!pip install PyAstronomy"
   ]
  },
  {
   "cell_type": "code",
   "execution_count": 17,
   "metadata": {},
   "outputs": [
    {
     "ename": "ModuleNotFoundError",
     "evalue": "No module named 'PyAstronomy'",
     "output_type": "error",
     "traceback": [
      "\u001b[1;31m---------------------------------------------------------------------------\u001b[0m",
      "\u001b[1;31mModuleNotFoundError\u001b[0m                       Traceback (most recent call last)",
      "\u001b[1;32m<ipython-input-17-0157417a09be>\u001b[0m in \u001b[0;36m<module>\u001b[1;34m\u001b[0m\n\u001b[0;32m     12\u001b[0m \u001b[1;33m\u001b[0m\u001b[0m\n\u001b[0;32m     13\u001b[0m \u001b[1;31m#builds very nice elliiptical orbits\u001b[0m\u001b[1;33m\u001b[0m\u001b[1;33m\u001b[0m\u001b[1;33m\u001b[0m\u001b[0m\n\u001b[1;32m---> 14\u001b[1;33m \u001b[1;32mimport\u001b[0m \u001b[0mPyAstronomy\u001b[0m\u001b[1;33m\u001b[0m\u001b[1;33m\u001b[0m\u001b[0m\n\u001b[0m\u001b[0;32m     15\u001b[0m \u001b[1;32mfrom\u001b[0m \u001b[0mPyAstronomy\u001b[0m \u001b[1;32mimport\u001b[0m \u001b[0mpyasl\u001b[0m\u001b[1;33m\u001b[0m\u001b[1;33m\u001b[0m\u001b[0m\n",
      "\u001b[1;31mModuleNotFoundError\u001b[0m: No module named 'PyAstronomy'"
     ]
    }
   ],
   "source": [
    "#general utility packages\n",
    "import numpy as np\n",
    "import matplotlib.pyplot as plt\n",
    "import pandas as pd\n",
    "\n",
    "#nice modules from astropy\n",
    "import astropy.units as u\n",
    "import astropy.constants as const\n",
    "\n",
    "#remind matplotlib how to do 3D plotting\n",
    "from mpl_toolkits.mplot3d import Axes3D\n",
    "\n",
    "#builds very nice elliiptical orbits\n",
    "import PyAstronomy\n",
    "from PyAstronomy import pyasl"
   ]
  },
  {
   "cell_type": "code",
   "execution_count": 16,
   "metadata": {},
   "outputs": [],
   "source": [
    "G = const.G\n",
    "c = 3 * 10**8\n",
    "def drift_rates(semimajor, period, e, omega, i, w, stellar_mass, num_timestep):\n",
    "    ke = pyasl.KeplerEllipse(semimajor, period, e, Omega = omega,i = i,w = w)\n",
    "    # Build the ellipse\n",
    "    t = np.linspace(0, period, num_timestep)\n",
    "    # Make a time axis\n",
    "    pos = ke.xyzPos(t)\n",
    "    radius = ke.radius(t)\n",
    "    total_acc = G*stellar_mass*u.Msun/(radius* u.au)**2\n",
    "    z_acceleration_array = []\n",
    "    vector_to_earth = [0,0,1]\n",
    "    for i in range(0, num_timestep):\n",
    "        position_vector = ke.xyzPos(t)[i,:]\n",
    "        radius = ke.radius(t)\n",
    "        # vector from the origin (host star) to the point in the orbit\n",
    "        z_magnitude = np.dot(vector_to_earth, position_vector) / radius[i]\n",
    "        # normalized magnitude of the vector in the observer's direction - between -1 and 1\n",
    "        z_acceleration_array.append((z_magnitude * total_acc[i].si).value/c)\n",
    "    return z_acceleration_array"
   ]
  },
  {
   "cell_type": "code",
   "execution_count": 15,
   "metadata": {},
   "outputs": [
    {
     "name": "stdout",
     "output_type": "stream",
     "text": [
      "Package                Version\n",
      "---------------------- -------------------\n",
      "bidict                 0.21.3\n",
      "brotlipy               0.7.0\n",
      "cachetools             4.2.0\n",
      "certifi                2020.6.20\n",
      "cffi                   1.14.3\n",
      "chardet                3.0.4\n",
      "conda                  4.9.2\n",
      "conda-package-handling 1.7.2\n",
      "cryptography           3.2.1\n",
      "future                 0.18.2\n",
      "idna                   2.10\n",
      "menuinst               1.4.16\n",
      "mouse                  0.7.1\n",
      "numpy                  1.20.2\n",
      "pandas                 1.3.3\n",
      "pefile                 2019.4.18\n",
      "pip                    20.2.4\n",
      "PyAstronomy            0.16.0\n",
      "pycosat                0.6.3\n",
      "pycparser              2.20\n",
      "pynput                 1.7.3\n",
      "pyOpenSSL              19.1.0\n",
      "PySocks                1.7.1\n",
      "python-dateutil        2.8.2\n",
      "pytz                   2021.3\n",
      "pywin32                227\n",
      "quantities             0.12.5\n",
      "requests               2.24.0\n",
      "ruamel-yaml            0.15.87\n",
      "scipy                  1.7.1\n",
      "setuptools             50.3.1.post20201107\n",
      "six                    1.15.0\n",
      "tqdm                   4.51.0\n",
      "urllib3                1.25.11\n",
      "wheel                  0.35.1\n",
      "win-inet-pton          1.1.0\n",
      "wincertstore           0.2\n"
     ]
    }
   ],
   "source": [
    "!pip list"
   ]
  },
  {
   "cell_type": "code",
   "execution_count": null,
   "metadata": {},
   "outputs": [],
   "source": []
  }
 ],
 "metadata": {
  "kernelspec": {
   "display_name": "Python 3",
   "language": "python",
   "name": "python3"
  },
  "language_info": {
   "codemirror_mode": {
    "name": "ipython",
    "version": 3
   },
   "file_extension": ".py",
   "mimetype": "text/x-python",
   "name": "python",
   "nbconvert_exporter": "python",
   "pygments_lexer": "ipython3",
   "version": "3.8.3rc1"
  }
 },
 "nbformat": 4,
 "nbformat_minor": 4
}
