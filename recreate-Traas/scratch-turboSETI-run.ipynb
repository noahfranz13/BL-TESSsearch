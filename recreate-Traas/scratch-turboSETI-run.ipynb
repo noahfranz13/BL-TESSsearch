{
 "cells": [
  {
   "cell_type": "code",
   "execution_count": 6,
   "metadata": {},
   "outputs": [],
   "source": [
    "# General imports\n",
    "import os, glob\n",
    "import numpy as np\n",
    "import matplotlib.pyplot as plt\n",
    "\n",
    "# BL imports\n",
    "import blimpy as bl\n",
    "from turbo_seti.find_doppler.find_doppler import FindDoppler\n",
    "from turbo_seti.find_event.find_event_pipeline import find_event_pipeline\n",
    "from turbo_seti.find_event.plot_event_pipeline import plot_event_pipeline\n",
    "\n",
    "%matplotlib inline"
   ]
  },
  {
   "cell_type": "code",
   "execution_count": 7,
   "metadata": {},
   "outputs": [],
   "source": [
    "# Location of data on blpc0\n",
    "dataDir = '/mnt_home/gcsfuse/blpc0/bl_tess'\n",
    "\n",
    "# list of 6 .dat files to create Figure 5a in l-band just to test code intially \n",
    "# TIC284450803 as ON \n",
    "# OFF : \n",
    "#####\n",
    "\n",
    "tfs = ['spliced_blc4041424344454647_guppi_58844_08852_TIC284450803_0022.gpuspec.0000.h5',\n",
    "       'spliced_blc4041424344454647_guppi_58844_09167_HIP95194_0023.gpuspec.0000.h5',\n",
    "       'spliced_blc4041424344454647_guppi_58844_09482_TIC284450803_0024.gpuspec.0000.h5',\n",
    "       'spliced_blc4041424344454647_guppi_58844_09803_HIP95852_0025.gpuspec.0000.h5',\n",
    "       'spliced_blc4041424344454647_guppi_58844_10124_TIC284450803_0026.gpuspec.0000.h5',\n",
    "       'spliced_blc4041424344454647_guppi_58844_10447_HIP96306_0027.gpuspec.0000.h5']\n",
    "\n",
    "h5listPath = os.path.join(os.getcwd(), 'outFiles', 'h5-files.lst')\n",
    "\n",
    "with open(h5listPath, 'w') as f:\n",
    "    for h5file in tfs:\n",
    "        f.write(os.path.join(dataDir, 'l_band', h5file) + '\\n')"
   ]
  },
  {
   "cell_type": "code",
   "execution_count": null,
   "metadata": {},
   "outputs": [],
   "source": [
    "# Run turboSETI\n",
    "\n",
    "h5files = []\n",
    "\n",
    "for file in tfs:\n",
    "    h5files.append(os.path.join(dataDir, 'l_band', file))\n",
    "    #fd = FindDoppler(os.path.join(dataDir, 'l_band', file), max_drift=4, snr=10, out_dir=os.path.join(os.getcwd(), 'outFiles'))\n",
    "    #fd.search()"
   ]
  },
  {
   "cell_type": "code",
   "execution_count": 4,
   "metadata": {},
   "outputs": [
    {
     "name": "stdout",
     "output_type": "stream",
     "text": [
      "\n",
      "************   BEGINNING FIND_EVENT PIPELINE   **************\n",
      "\n",
      "Assuming the first observation is an ON\n"
     ]
    },
    {
     "ename": "ZeroDivisionError",
     "evalue": "division by zero",
     "output_type": "error",
     "traceback": [
      "\u001b[0;31m---------------------------------------------------------------------------\u001b[0m",
      "\u001b[0;31mZeroDivisionError\u001b[0m                         Traceback (most recent call last)",
      "\u001b[0;32m<ipython-input-4-2755bf5cc737>\u001b[0m in \u001b[0;36m<module>\u001b[0;34m\u001b[0m\n\u001b[1;32m     10\u001b[0m \u001b[0mcsvPath\u001b[0m \u001b[0;34m=\u001b[0m \u001b[0mos\u001b[0m\u001b[0;34m.\u001b[0m\u001b[0mpath\u001b[0m\u001b[0;34m.\u001b[0m\u001b[0mjoin\u001b[0m\u001b[0;34m(\u001b[0m\u001b[0mos\u001b[0m\u001b[0;34m.\u001b[0m\u001b[0mgetcwd\u001b[0m\u001b[0;34m(\u001b[0m\u001b[0;34m)\u001b[0m\u001b[0;34m,\u001b[0m \u001b[0;34m'outFiles'\u001b[0m\u001b[0;34m,\u001b[0m \u001b[0;34m'events-list.csv'\u001b[0m\u001b[0;34m)\u001b[0m\u001b[0;34m\u001b[0m\u001b[0;34m\u001b[0m\u001b[0m\n\u001b[1;32m     11\u001b[0m \u001b[0;34m\u001b[0m\u001b[0m\n\u001b[0;32m---> 12\u001b[0;31m \u001b[0mfind_event_pipeline\u001b[0m\u001b[0;34m(\u001b[0m\u001b[0mdatListPath\u001b[0m\u001b[0;34m,\u001b[0m \u001b[0mfilter_threshold\u001b[0m\u001b[0;34m=\u001b[0m\u001b[0;36m3\u001b[0m\u001b[0;34m,\u001b[0m \u001b[0mnumber_in_cadence\u001b[0m\u001b[0;34m=\u001b[0m\u001b[0mlen\u001b[0m\u001b[0;34m(\u001b[0m\u001b[0mdatList\u001b[0m\u001b[0;34m)\u001b[0m\u001b[0;34m,\u001b[0m \u001b[0mcsv_name\u001b[0m\u001b[0;34m=\u001b[0m\u001b[0mcsvPath\u001b[0m\u001b[0;34m,\u001b[0m \u001b[0msaving\u001b[0m\u001b[0;34m=\u001b[0m\u001b[0;32mTrue\u001b[0m\u001b[0;34m)\u001b[0m\u001b[0;34m\u001b[0m\u001b[0;34m\u001b[0m\u001b[0m\n\u001b[0m",
      "\u001b[0;32m/opt/conda/lib/python3.7/site-packages/turbo_seti/find_event/find_event_pipeline.py\u001b[0m in \u001b[0;36mfind_event_pipeline\u001b[0;34m(dat_file_list_str, SNR_cut, check_zero_drift, filter_threshold, on_off_first, number_in_cadence, on_source_complex_cadence, saving, csv_name, user_validation, sortby_tstart)\u001b[0m\n\u001b[1;32m    193\u001b[0m             \u001b[0;32mreturn\u001b[0m \u001b[0;32mNone\u001b[0m\u001b[0;34m\u001b[0m\u001b[0;34m\u001b[0m\u001b[0m\n\u001b[1;32m    194\u001b[0m \u001b[0;34m\u001b[0m\u001b[0m\n\u001b[0;32m--> 195\u001b[0;31m     \u001b[0mnum_of_sets\u001b[0m \u001b[0;34m=\u001b[0m \u001b[0mint\u001b[0m\u001b[0;34m(\u001b[0m\u001b[0mn_files\u001b[0m \u001b[0;34m/\u001b[0m \u001b[0mnumber_in_cadence\u001b[0m\u001b[0;34m)\u001b[0m\u001b[0;34m\u001b[0m\u001b[0;34m\u001b[0m\u001b[0m\n\u001b[0m\u001b[1;32m    196\u001b[0m     \u001b[0mprint\u001b[0m\u001b[0;34m(\u001b[0m\u001b[0;34m\"There are \"\u001b[0m \u001b[0;34m+\u001b[0m \u001b[0mstr\u001b[0m\u001b[0;34m(\u001b[0m\u001b[0mlen\u001b[0m\u001b[0;34m(\u001b[0m\u001b[0mdat_file_list\u001b[0m\u001b[0;34m)\u001b[0m\u001b[0;34m)\u001b[0m \u001b[0;34m+\u001b[0m \u001b[0;34m\" total files in the filelist \"\u001b[0m \u001b[0;34m+\u001b[0m \u001b[0mdat_file_list_str\u001b[0m\u001b[0;34m)\u001b[0m\u001b[0;34m\u001b[0m\u001b[0;34m\u001b[0m\u001b[0m\n\u001b[1;32m    197\u001b[0m     \u001b[0mprint\u001b[0m\u001b[0;34m(\u001b[0m\u001b[0;34m\"therefore, looking for events in \"\u001b[0m \u001b[0;34m+\u001b[0m \u001b[0mstr\u001b[0m\u001b[0;34m(\u001b[0m\u001b[0mnum_of_sets\u001b[0m\u001b[0;34m)\u001b[0m \u001b[0;34m+\u001b[0m \u001b[0;34m\" on-off set(s)\"\u001b[0m\u001b[0;34m)\u001b[0m\u001b[0;34m\u001b[0m\u001b[0;34m\u001b[0m\u001b[0m\n",
      "\u001b[0;31mZeroDivisionError\u001b[0m: division by zero"
     ]
    }
   ],
   "source": [
    "# Run find_event_pipeline\n",
    "\n",
    "datList = sorted(glob.glob(os.path.join(dataDir, '*.dat')))\n",
    "\n",
    "datListPath = os.path.join(os.getcwd(), 'outFiles', 'dat-files.lst')\n",
    "with open(datListPath, 'w') as f:\n",
    "    for file in datList:\n",
    "        f.write(file + '\\n')\n",
    "        \n",
    "csvPath = os.path.join(os.getcwd(), 'outFiles', 'events-list.csv')\n",
    "\n",
    "find_event_pipeline(datListPath, filter_threshold=3, number_in_cadence=len(datList), csv_name=csvPath, saving=True)"
   ]
  },
  {
   "cell_type": "code",
   "execution_count": null,
   "metadata": {},
   "outputs": [],
   "source": []
  }
 ],
 "metadata": {
  "kernelspec": {
   "display_name": "Python 3",
   "language": "python",
   "name": "python3"
  },
  "language_info": {
   "codemirror_mode": {
    "name": "ipython",
    "version": 3
   },
   "file_extension": ".py",
   "mimetype": "text/x-python",
   "name": "python",
   "nbconvert_exporter": "python",
   "pygments_lexer": "ipython3",
   "version": "3.7.6"
  }
 },
 "nbformat": 4,
 "nbformat_minor": 4
}
