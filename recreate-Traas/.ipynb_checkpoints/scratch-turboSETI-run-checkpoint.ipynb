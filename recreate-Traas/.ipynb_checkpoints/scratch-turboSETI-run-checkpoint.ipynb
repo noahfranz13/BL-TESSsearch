{
 "cells": [
  {
   "cell_type": "code",
   "execution_count": 1,
   "metadata": {},
   "outputs": [],
   "source": [
    "# General imports\n",
    "import os, glob\n",
    "import numpy as np\n",
    "import matplotlib.pyplot as plt\n",
    "\n",
    "# BL imports\n",
    "import blimpy as bl\n",
    "from turbo_seti.find_doppler.find_doppler import FindDoppler\n",
    "from turbo_seti.find_event.find_event_pipeline import find_event_pipeline\n",
    "from turbo_seti.find_event.plot_event_pipeline import plot_event_pipeline\n",
    "\n",
    "%matplotlib inline"
   ]
  },
  {
   "cell_type": "code",
   "execution_count": 2,
   "metadata": {},
   "outputs": [],
   "source": [
    "# Location of data on blpc0\n",
    "dataDir = '/mnt_home/gcsfuse/blpc0/bl_tess'\n",
    "\n",
    "# list of 6 .dat files to create Figure 5a in l-band just to test code intially \n",
    "# TIC284450803 as ON \n",
    "# OFF : \n",
    "tfs = ['spliced_blc4041424344454647_guppi_58844_08852_TIC284450803_0022.gpuspec.0000.h5',\n",
    "       'spliced_blc4041424344454647_guppi_58844_09167_HIP95194_0023.gpuspec.0000.h5',\n",
    "       'spliced_blc4041424344454647_guppi_58844_09482_TIC284450803_0024.gpuspec.0000.h5',\n",
    "       'spliced_blc4041424344454647_guppi_58844_09803_HIP95852_0025.gpuspec.0000.h5',\n",
    "       'spliced_blc4041424344454647_guppi_58844_10124_TIC284450803_0026.gpuspec.0000.h5',\n",
    "       'spliced_blc4041424344454647_guppi_58844_10447_HIP96306_0027.gpuspec.0000.h5']\n",
    "\n",
    "h5listPath = os.path.join(os.getcwd(), 'outFiles', 'h5-files.lst')\n",
    "\n",
    "with open(h5listPath, 'w') as f:\n",
    "    for h5file in tfs:\n",
    "        f.write(os.path.join(dataDir, 'l_band', h5file) + '\\n')"
   ]
  },
  {
   "cell_type": "code",
   "execution_count": 3,
   "metadata": {},
   "outputs": [
    {
     "name": "stdout",
     "output_type": "stream",
     "text": [
      "\n",
      "turbo_seti version 2.0.18\n",
      "blimpy version 2.0.11\n",
      "h5py version 2.10.0\n",
      "\n",
      "data_handler    ERROR    File /mnt_home/gcsfuse/blpc0/bl_tess/l_band/spliced_blc4041424344454647_guppi_58844_08852_TIC284450803_0022.gpuspec.0000.h5 doesn't exist, please check!\n"
     ]
    },
    {
     "ename": "OSError",
     "evalue": "File /mnt_home/gcsfuse/blpc0/bl_tess/l_band/spliced_blc4041424344454647_guppi_58844_08852_TIC284450803_0022.gpuspec.0000.h5 doesn't exist, please check!",
     "output_type": "error",
     "traceback": [
      "\u001b[0;31m---------------------------------------------------------------------------\u001b[0m",
      "\u001b[0;31mOSError\u001b[0m                                   Traceback (most recent call last)",
      "\u001b[0;32m<ipython-input-3-9e524cfb9b27>\u001b[0m in \u001b[0;36m<module>\u001b[0;34m\u001b[0m\n\u001b[1;32m      5\u001b[0m \u001b[0;32mfor\u001b[0m \u001b[0mfile\u001b[0m \u001b[0;32min\u001b[0m \u001b[0mtfs\u001b[0m\u001b[0;34m:\u001b[0m\u001b[0;34m\u001b[0m\u001b[0;34m\u001b[0m\u001b[0m\n\u001b[1;32m      6\u001b[0m     \u001b[0mh5files\u001b[0m\u001b[0;34m.\u001b[0m\u001b[0mappend\u001b[0m\u001b[0;34m(\u001b[0m\u001b[0mos\u001b[0m\u001b[0;34m.\u001b[0m\u001b[0mpath\u001b[0m\u001b[0;34m.\u001b[0m\u001b[0mjoin\u001b[0m\u001b[0;34m(\u001b[0m\u001b[0mdataDir\u001b[0m\u001b[0;34m,\u001b[0m \u001b[0;34m'l_band'\u001b[0m\u001b[0;34m,\u001b[0m \u001b[0mfile\u001b[0m\u001b[0;34m)\u001b[0m\u001b[0;34m)\u001b[0m\u001b[0;34m\u001b[0m\u001b[0;34m\u001b[0m\u001b[0m\n\u001b[0;32m----> 7\u001b[0;31m     \u001b[0mfd\u001b[0m \u001b[0;34m=\u001b[0m \u001b[0mFindDoppler\u001b[0m\u001b[0;34m(\u001b[0m\u001b[0mos\u001b[0m\u001b[0;34m.\u001b[0m\u001b[0mpath\u001b[0m\u001b[0;34m.\u001b[0m\u001b[0mjoin\u001b[0m\u001b[0;34m(\u001b[0m\u001b[0mdataDir\u001b[0m\u001b[0;34m,\u001b[0m \u001b[0;34m'l_band'\u001b[0m\u001b[0;34m,\u001b[0m \u001b[0mfile\u001b[0m\u001b[0;34m)\u001b[0m\u001b[0;34m,\u001b[0m \u001b[0mmax_drift\u001b[0m\u001b[0;34m=\u001b[0m\u001b[0;36m4\u001b[0m\u001b[0;34m,\u001b[0m \u001b[0msnr\u001b[0m\u001b[0;34m=\u001b[0m\u001b[0;36m10\u001b[0m\u001b[0;34m,\u001b[0m \u001b[0mout_dir\u001b[0m\u001b[0;34m=\u001b[0m\u001b[0mos\u001b[0m\u001b[0;34m.\u001b[0m\u001b[0mpath\u001b[0m\u001b[0;34m.\u001b[0m\u001b[0mjoin\u001b[0m\u001b[0;34m(\u001b[0m\u001b[0mos\u001b[0m\u001b[0;34m.\u001b[0m\u001b[0mgetcwd\u001b[0m\u001b[0;34m(\u001b[0m\u001b[0;34m)\u001b[0m\u001b[0;34m,\u001b[0m \u001b[0;34m'outFiles'\u001b[0m\u001b[0;34m)\u001b[0m\u001b[0;34m)\u001b[0m\u001b[0;34m\u001b[0m\u001b[0;34m\u001b[0m\u001b[0m\n\u001b[0m\u001b[1;32m      8\u001b[0m     \u001b[0mfd\u001b[0m\u001b[0;34m.\u001b[0m\u001b[0msearch\u001b[0m\u001b[0;34m(\u001b[0m\u001b[0;34m)\u001b[0m\u001b[0;34m\u001b[0m\u001b[0;34m\u001b[0m\u001b[0m\n",
      "\u001b[0;32m/opt/conda/lib/python3.7/site-packages/turbo_seti/find_doppler/find_doppler.py\u001b[0m in \u001b[0;36m__init__\u001b[0;34m(self, datafile, max_drift, min_drift, snr, out_dir, coarse_chans, obs_info, flagging, n_coarse_chan, kernels, gpu_backend, precision, append_output, log_level_int)\u001b[0m\n\u001b[1;32m     97\u001b[0m                                       \u001b[0mn_coarse_chan\u001b[0m\u001b[0;34m=\u001b[0m\u001b[0mn_coarse_chan\u001b[0m\u001b[0;34m,\u001b[0m\u001b[0;34m\u001b[0m\u001b[0;34m\u001b[0m\u001b[0m\n\u001b[1;32m     98\u001b[0m                                       \u001b[0mcoarse_chans\u001b[0m\u001b[0;34m=\u001b[0m\u001b[0mcoarse_chans\u001b[0m\u001b[0;34m,\u001b[0m\u001b[0;34m\u001b[0m\u001b[0;34m\u001b[0m\u001b[0m\n\u001b[0;32m---> 99\u001b[0;31m                                       kernels=self.kernels)\n\u001b[0m\u001b[1;32m    100\u001b[0m         \u001b[0;32mif\u001b[0m \u001b[0;34m(\u001b[0m\u001b[0mself\u001b[0m\u001b[0;34m.\u001b[0m\u001b[0mdata_handle\u001b[0m \u001b[0;32mis\u001b[0m \u001b[0;32mNone\u001b[0m\u001b[0;34m)\u001b[0m \u001b[0;32mor\u001b[0m \u001b[0;34m(\u001b[0m\u001b[0mself\u001b[0m\u001b[0;34m.\u001b[0m\u001b[0mdata_handle\u001b[0m\u001b[0;34m.\u001b[0m\u001b[0mstatus\u001b[0m \u001b[0;32mis\u001b[0m \u001b[0;32mFalse\u001b[0m\u001b[0;34m)\u001b[0m\u001b[0;34m:\u001b[0m\u001b[0;34m\u001b[0m\u001b[0;34m\u001b[0m\u001b[0m\n\u001b[1;32m    101\u001b[0m             \u001b[0;32mraise\u001b[0m \u001b[0mIOError\u001b[0m\u001b[0;34m(\u001b[0m\u001b[0;34m\"File error, aborting...\"\u001b[0m\u001b[0;34m)\u001b[0m\u001b[0;34m\u001b[0m\u001b[0;34m\u001b[0m\u001b[0m\n",
      "\u001b[0;32m/opt/conda/lib/python3.7/site-packages/turbo_seti/find_doppler/data_handler.py\u001b[0m in \u001b[0;36m__init__\u001b[0;34m(self, filename, out_dir, n_coarse_chan, coarse_chans, kernels, gpu_backend, precision)\u001b[0m\n\u001b[1;32m     88\u001b[0m             \u001b[0merrmsg\u001b[0m \u001b[0;34m=\u001b[0m \u001b[0;34m\"File {} doesn\\'t exist, please check!\"\u001b[0m\u001b[0;34m.\u001b[0m\u001b[0mformat\u001b[0m\u001b[0;34m(\u001b[0m\u001b[0mfilename\u001b[0m\u001b[0;34m)\u001b[0m\u001b[0;34m\u001b[0m\u001b[0;34m\u001b[0m\u001b[0m\n\u001b[1;32m     89\u001b[0m             \u001b[0mlogger\u001b[0m\u001b[0;34m.\u001b[0m\u001b[0merror\u001b[0m\u001b[0;34m(\u001b[0m\u001b[0merrmsg\u001b[0m\u001b[0;34m)\u001b[0m\u001b[0;34m\u001b[0m\u001b[0;34m\u001b[0m\u001b[0m\n\u001b[0;32m---> 90\u001b[0;31m             \u001b[0;32mraise\u001b[0m \u001b[0mIOError\u001b[0m\u001b[0;34m(\u001b[0m\u001b[0merrmsg\u001b[0m\u001b[0;34m)\u001b[0m\u001b[0;34m\u001b[0m\u001b[0;34m\u001b[0m\u001b[0m\n\u001b[0m\u001b[1;32m     91\u001b[0m \u001b[0;34m\u001b[0m\u001b[0m\n\u001b[1;32m     92\u001b[0m     \u001b[0;32mdef\u001b[0m \u001b[0mget_info\u001b[0m\u001b[0;34m(\u001b[0m\u001b[0mself\u001b[0m\u001b[0;34m)\u001b[0m\u001b[0;34m:\u001b[0m\u001b[0;34m\u001b[0m\u001b[0;34m\u001b[0m\u001b[0m\n",
      "\u001b[0;31mOSError\u001b[0m: File /mnt_home/gcsfuse/blpc0/bl_tess/l_band/spliced_blc4041424344454647_guppi_58844_08852_TIC284450803_0022.gpuspec.0000.h5 doesn't exist, please check!"
     ]
    }
   ],
   "source": [
    "# Run turboSETI\n",
    "\n",
    "h5files = []\n",
    "\n",
    "for file in tfs:\n",
    "    h5files.append(os.path.join(dataDir, 'l_band', file))\n",
    "    fd = FindDoppler(os.path.join(dataDir, 'l_band', file), max_drift=4, snr=10, out_dir=os.path.join(os.getcwd(), 'outFiles'))\n",
    "    fd.search()"
   ]
  },
  {
   "cell_type": "code",
   "execution_count": null,
   "metadata": {},
   "outputs": [],
   "source": [
    "# Run find_event_pipeline\n",
    "\n",
    "datList = sorted(glob.glob(os.path.join(dataDir, '*.dat')))\n",
    "\n",
    "datListPath = os.path.join(os.getcwd(), 'outFiles', 'dat-files.lst')\n",
    "with open(datListPath, 'w') as f:\n",
    "    for file in datList:\n",
    "        f.write(file + '\\n')\n",
    "        \n",
    "csvPath = os.path.join(os.getcwd(), 'outFiles', 'events-list.csv')\n",
    "\n",
    "find_event_pipeline(datListPath, filter_threshold=3, number_in_cadence=len(datList), csv_name=csvPath, saving=True)"
   ]
  }
 ],
 "metadata": {
  "kernelspec": {
   "display_name": "Python 3",
   "language": "python",
   "name": "python3"
  },
  "language_info": {
   "codemirror_mode": {
    "name": "ipython",
    "version": 3
   },
   "file_extension": ".py",
   "mimetype": "text/x-python",
   "name": "python",
   "nbconvert_exporter": "python",
   "pygments_lexer": "ipython3",
   "version": "3.7.6"
  }
 },
 "nbformat": 4,
 "nbformat_minor": 4
}
