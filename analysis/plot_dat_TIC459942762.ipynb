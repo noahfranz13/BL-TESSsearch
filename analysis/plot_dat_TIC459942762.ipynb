{
 "cells": [
  {
   "cell_type": "code",
   "execution_count": 4,
   "metadata": {},
   "outputs": [],
   "source": [
    "# Imports\n",
    "import os, glob, sys\n",
    "from turbo_seti.find_event.plot_dat import plot_dat\n",
    "from turbo_seti import find_event as find\n",
    "import numpy as np"
   ]
  },
  {
   "cell_type": "code",
   "execution_count": 5,
   "metadata": {},
   "outputs": [],
   "source": [
    "targ = 'TIC459942762'\n",
    "path = '/mnt_blc25/datax2/scratch/noahf/TOI-TIC459942762_X/'"
   ]
  },
  {
   "cell_type": "code",
   "execution_count": 6,
   "metadata": {},
   "outputs": [
    {
     "name": "stdout",
     "output_type": "stream",
     "text": [
      "Lowest frequency hit:   7502.710298\n",
      "Highext frequency hit:  11251.198527\n"
     ]
    }
   ],
   "source": [
    "dat_files = glob.glob(path + \"*.dat\")\n",
    "\n",
    "min_hit = 1e9\n",
    "max_hit = 0\n",
    "\n",
    "for file in dat_files:\n",
    "    tbl = find.read_dat(file)\n",
    "    min_freq, max_freq = min(tbl[\"Freq\"]), max(tbl[\"Freq\"])\n",
    "    if min_freq < min_hit:\n",
    "        min_hit = min_freq\n",
    "    if max_freq > max_hit:\n",
    "        max_hit = max_freq\n",
    "\n",
    "print(\"Lowest frequency hit:  \", min_hit)\n",
    "print(\"Highext frequency hit: \", max_hit)\n",
    "\n",
    "plot_range = 2000*1e-6 # a 2000Hz width, adjusted to be in units of MHz\n",
    "\n",
    "freq_range = np.arange(np.round(min_hit, 1), np.round(max_hit, 1)+0.1, plot_range)"
   ]
  },
  {
   "cell_type": "code",
   "execution_count": 7,
   "metadata": {},
   "outputs": [
    {
     "ename": "FileNotFoundError",
     "evalue": "[Errno 2] No such file or directory: '/datax2/scratch/noahf/TOI-TIC459942762/spliced_blc40414243444546o7o0515253545556o7o061626364656667_guppi_58838_24978_TIC459942762_0097.gpuspec.0000.dat'",
     "output_type": "error",
     "traceback": [
      "\u001b[0;31m---------------------------------------------------------------------------\u001b[0m",
      "\u001b[0;31mFileNotFoundError\u001b[0m                         Traceback (most recent call last)",
      "\u001b[0;32m<ipython-input-7-17aabf99a65d>\u001b[0m in \u001b[0;36m<module>\u001b[0;34m\u001b[0m\n\u001b[1;32m      1\u001b[0m \u001b[0;32mfor\u001b[0m \u001b[0mcenter\u001b[0m \u001b[0;32min\u001b[0m \u001b[0mfreq_range\u001b[0m\u001b[0;34m:\u001b[0m\u001b[0;34m\u001b[0m\u001b[0;34m\u001b[0m\u001b[0m\n\u001b[0;32m----> 2\u001b[0;31m     plot_dat(path + \"dat-list.lst\",\n\u001b[0m\u001b[1;32m      3\u001b[0m              \u001b[0mpath\u001b[0m \u001b[0;34m+\u001b[0m \u001b[0;34m\"h5-list.lst\"\u001b[0m\u001b[0;34m,\u001b[0m\u001b[0;34m\u001b[0m\u001b[0;34m\u001b[0m\u001b[0m\n\u001b[1;32m      4\u001b[0m              \u001b[0mpath\u001b[0m \u001b[0;34m+\u001b[0m \u001b[0;34m\"events-list.csv\"\u001b[0m\u001b[0;34m,\u001b[0m\u001b[0;34m\u001b[0m\u001b[0;34m\u001b[0m\u001b[0m\n\u001b[1;32m      5\u001b[0m              \u001b[0moutdir\u001b[0m\u001b[0;34m=\u001b[0m\u001b[0;34m\"/home/noahf/bautista-TIC459942762\"\u001b[0m\u001b[0;34m,\u001b[0m\u001b[0;34m\u001b[0m\u001b[0;34m\u001b[0m\u001b[0m\n",
      "\u001b[0;32m~/miniconda3/envs/runTurbo/lib/python3.8/site-packages/turbo_seti/find_event/plot_dat.py\u001b[0m in \u001b[0;36mplot_dat\u001b[0;34m(dat_list_string, fils_list_string, candidate_event_table_string, outdir, check_zero_drift, alpha, color, window)\u001b[0m\n\u001b[1;32m     89\u001b[0m     \u001b[0mall_hits\u001b[0m \u001b[0;34m=\u001b[0m \u001b[0;34m[\u001b[0m\u001b[0;34m]\u001b[0m\u001b[0;34m\u001b[0m\u001b[0;34m\u001b[0m\u001b[0m\n\u001b[1;32m     90\u001b[0m     \u001b[0;32mfor\u001b[0m \u001b[0mdat\u001b[0m \u001b[0;32min\u001b[0m \u001b[0mdat_file_list\u001b[0m\u001b[0;34m:\u001b[0m\u001b[0;34m\u001b[0m\u001b[0;34m\u001b[0m\u001b[0m\n\u001b[0;32m---> 91\u001b[0;31m         \u001b[0mframe\u001b[0m \u001b[0;34m=\u001b[0m \u001b[0mfind_event\u001b[0m\u001b[0;34m.\u001b[0m\u001b[0mread_dat\u001b[0m\u001b[0;34m(\u001b[0m\u001b[0mdat\u001b[0m\u001b[0;34m)\u001b[0m\u001b[0;34m\u001b[0m\u001b[0;34m\u001b[0m\u001b[0m\n\u001b[0m\u001b[1;32m     92\u001b[0m         \u001b[0mall_hits\u001b[0m\u001b[0;34m.\u001b[0m\u001b[0mappend\u001b[0m\u001b[0;34m(\u001b[0m\u001b[0mframe\u001b[0m\u001b[0;34m)\u001b[0m\u001b[0;34m\u001b[0m\u001b[0;34m\u001b[0m\u001b[0m\n\u001b[1;32m     93\u001b[0m     \u001b[0mall_hits_frame\u001b[0m \u001b[0;34m=\u001b[0m \u001b[0mpd\u001b[0m\u001b[0;34m.\u001b[0m\u001b[0mconcat\u001b[0m\u001b[0;34m(\u001b[0m\u001b[0mall_hits\u001b[0m\u001b[0;34m)\u001b[0m\u001b[0;34m\u001b[0m\u001b[0;34m\u001b[0m\u001b[0m\n",
      "\u001b[0;32m~/miniconda3/envs/runTurbo/lib/python3.8/site-packages/turbo_seti/find_event/find_event.py\u001b[0m in \u001b[0;36mread_dat\u001b[0;34m(filename)\u001b[0m\n\u001b[1;32m     50\u001b[0m \u001b[0;34m\u001b[0m\u001b[0m\n\u001b[1;32m     51\u001b[0m     \"\"\"\n\u001b[0;32m---> 52\u001b[0;31m     \u001b[0mfile_dat\u001b[0m \u001b[0;34m=\u001b[0m \u001b[0mopen\u001b[0m\u001b[0;34m(\u001b[0m\u001b[0mfilename\u001b[0m\u001b[0;34m.\u001b[0m\u001b[0mstrip\u001b[0m\u001b[0;34m(\u001b[0m\u001b[0;34m)\u001b[0m\u001b[0;34m)\u001b[0m\u001b[0;34m\u001b[0m\u001b[0;34m\u001b[0m\u001b[0m\n\u001b[0m\u001b[1;32m     53\u001b[0m     \u001b[0mhits\u001b[0m \u001b[0;34m=\u001b[0m \u001b[0mfile_dat\u001b[0m\u001b[0;34m.\u001b[0m\u001b[0mreadlines\u001b[0m\u001b[0;34m(\u001b[0m\u001b[0;34m)\u001b[0m\u001b[0;34m\u001b[0m\u001b[0;34m\u001b[0m\u001b[0m\n\u001b[1;32m     54\u001b[0m \u001b[0;34m\u001b[0m\u001b[0m\n",
      "\u001b[0;31mFileNotFoundError\u001b[0m: [Errno 2] No such file or directory: '/datax2/scratch/noahf/TOI-TIC459942762/spliced_blc40414243444546o7o0515253545556o7o061626364656667_guppi_58838_24978_TIC459942762_0097.gpuspec.0000.dat'"
     ]
    }
   ],
   "source": [
    "for center in freq_range:\n",
    "    plot_dat(path + \"dat-list.lst\",\n",
    "             path + \"h5-list.lst\",\n",
    "             path + \"events-list.csv\",\n",
    "             outdir=\"/home/noahf/bautista-TIC459942762\",\n",
    "             check_zero_drift=False,\n",
    "             alpha=0.65, \n",
    "             color=\"black\",\n",
    "             window=(center-0.001, center+0.001))"
   ]
  },
  {
   "cell_type": "code",
   "execution_count": null,
   "metadata": {},
   "outputs": [],
   "source": []
  },
  {
   "cell_type": "code",
   "execution_count": 8,
   "metadata": {},
   "outputs": [
    {
     "name": "stdout",
     "output_type": "stream",
     "text": [
      "/mnt_blc25/datax2/scratch/noahf/TOI-TIC459942762_X/\n"
     ]
    }
   ],
   "source": [
    "print(path)"
   ]
  },
  {
   "cell_type": "code",
   "execution_count": null,
   "metadata": {},
   "outputs": [],
   "source": []
  }
 ],
 "metadata": {
  "kernelspec": {
   "display_name": "runTurbo",
   "language": "python",
   "name": "runturbo"
  },
  "language_info": {
   "codemirror_mode": {
    "name": "ipython",
    "version": 3
   },
   "file_extension": ".py",
   "mimetype": "text/x-python",
   "name": "python",
   "nbconvert_exporter": "python",
   "pygments_lexer": "ipython3",
   "version": "3.8.10"
  }
 },
 "nbformat": 4,
 "nbformat_minor": 4
}
