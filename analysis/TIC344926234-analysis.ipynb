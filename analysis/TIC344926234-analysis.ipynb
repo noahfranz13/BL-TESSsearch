{
 "cells": [
  {
   "cell_type": "code",
   "execution_count": 1,
   "metadata": {},
   "outputs": [
    {
     "name": "stderr",
     "output_type": "stream",
     "text": [
      "WARNING: AstropyDeprecationWarning: The private astropy._erfa module has been made into its own package, pyerfa, which is a dependency of astropy and can be imported directly using \"import erfa\" [astropy._erfa]\n"
     ]
    }
   ],
   "source": [
    "from FindPlotEvents_pipeline import FindPlotEvents\n",
    "%matplotlib inline"
   ]
  },
  {
   "cell_type": "code",
   "execution_count": 2,
   "metadata": {},
   "outputs": [
    {
     "name": "stdout",
     "output_type": "stream",
     "text": [
      "[array([-2531.23193532,  3033.99726301]), array([-45177.40794271, -39612.17874438]), array([-2531.23193532,  3033.99726301]), array([-45177.40794271, -39612.17874438]), array([-2531.23193532,  3033.99726301]), array([-45177.40794271, -39612.17874438]), array([-1914.02667314,  3651.2025252 ]), array([-44560.20268053, -38994.97348219]), array([-1914.02667314,  3651.2025252 ]), array([-44560.20268053, -38994.97348219]), array([-1914.02667314,  3651.2025252 ]), array([-44560.20268053, -38994.97348219])]\n",
      "####################### Beginning Find Event Pipeline #######################\n",
      "\n",
      "************   BEGINNING FIND_EVENT PIPELINE   **************\n",
      "\n",
      "Assuming the first observation is an ON\n",
      "find_event_pipeline INFO     find_event_pipeline: file=spliced_blc0001020304050607_guppi_58811_53010_TIC344926234_0023.gpuspec.0000.dat, tstart=58811.613541666666, source_name=TIC344926234, fch1=3151.464842353016, foff=-2.7939677238464355e-06, nchans=536870912\n",
      "find_event_pipeline INFO     find_event_pipeline: file=spliced_blc0001020304050607_guppi_58811_53324_HIP49458_0024.gpuspec.0000.dat, tstart=58811.61717592592, source_name=HIP49458, fch1=3151.464842353016, foff=-2.7939677238464355e-06, nchans=536870912\n",
      "find_event_pipeline INFO     find_event_pipeline: file=spliced_blc0001020304050607_guppi_58811_53638_TIC344926234_0025.gpuspec.0000.dat, tstart=58811.62081018519, source_name=TIC344926234, fch1=3151.464842353016, foff=-2.7939677238464355e-06, nchans=536870912\n",
      "find_event_pipeline INFO     find_event_pipeline: file=spliced_blc0001020304050607_guppi_58811_53957_HIP49824_0026.gpuspec.0000.dat, tstart=58811.624502314815, source_name=HIP49824, fch1=3151.464842353016, foff=-2.7939677238464355e-06, nchans=536870912\n",
      "find_event_pipeline INFO     find_event_pipeline: file=spliced_blc0001020304050607_guppi_58811_54276_TIC344926234_0027.gpuspec.0000.dat, tstart=58811.62819444444, source_name=TIC344926234, fch1=3151.464842353016, foff=-2.7939677238464355e-06, nchans=536870912\n",
      "find_event_pipeline INFO     find_event_pipeline: file=spliced_blc0001020304050607_guppi_58811_54593_HIP49692_0028.gpuspec.0000.dat, tstart=58811.63186342592, source_name=HIP49692, fch1=3151.464842353016, foff=-2.7939677238464355e-06, nchans=536870912\n",
      "There are 6 total files in the filelist /datax/scratch/noahf/turboSETI-outFiles/TOI-TIC344926234/dat-list.lst\n",
      "therefore, looking for events in 1 on-off set(s)\n",
      "with a minimum SNR of 10\n",
      "Present in all ON sources with RFI rejection from the OFF sources\n",
      "not including signals with zero drift\n",
      "saving the output files\n",
      "\n",
      "*** First DAT file in set:  spliced_blc0001020304050607_guppi_58811_53010_TIC344926234_0023.gpuspec.0000.dat ***\n",
      "\n",
      "------   o   -------\n",
      "Loading data...\n"
     ]
    },
    {
     "ename": "RuntimeError",
     "evalue": "*** Out-of-date DAT file format detected in /datax/scratch/noahf/turboSETI-outFiles/TOI-TIC344926234/spliced_blc0001020304050607_guppi_58811_53010_TIC344926234_0023.gpuspec.0000.dat.  Rerun doppler search!",
     "output_type": "error",
     "traceback": [
      "\u001b[0;31m---------------------------------------------------------------------------\u001b[0m",
      "\u001b[0;31mIndexError\u001b[0m                                Traceback (most recent call last)",
      "\u001b[0;32m~/miniconda3/envs/runTurbo/lib/python3.8/site-packages/turbo_seti/find_event/find_event.py\u001b[0m in \u001b[0;36mread_dat\u001b[0;34m(filename)\u001b[0m\n\u001b[1;32m     67\u001b[0m     \u001b[0;32mtry\u001b[0m\u001b[0;34m:\u001b[0m\u001b[0;34m\u001b[0m\u001b[0;34m\u001b[0m\u001b[0m\n\u001b[0;32m---> 68\u001b[0;31m         \u001b[0mmax_drift_rate\u001b[0m \u001b[0;34m=\u001b[0m \u001b[0mhits\u001b[0m\u001b[0;34m[\u001b[0m\u001b[0;36m5\u001b[0m\u001b[0;34m]\u001b[0m\u001b[0;34m.\u001b[0m\u001b[0mstrip\u001b[0m\u001b[0;34m(\u001b[0m\u001b[0;34m)\u001b[0m\u001b[0;34m.\u001b[0m\u001b[0msplit\u001b[0m\u001b[0;34m(\u001b[0m\u001b[0;34m'\\t'\u001b[0m\u001b[0;34m)\u001b[0m\u001b[0;34m[\u001b[0m\u001b[0;36m2\u001b[0m\u001b[0;34m]\u001b[0m\u001b[0;34m.\u001b[0m\u001b[0msplit\u001b[0m\u001b[0;34m(\u001b[0m\u001b[0;34m':'\u001b[0m\u001b[0;34m)\u001b[0m\u001b[0;34m[\u001b[0m\u001b[0;34m-\u001b[0m\u001b[0;36m1\u001b[0m\u001b[0;34m]\u001b[0m\u001b[0;34m.\u001b[0m\u001b[0mstrip\u001b[0m\u001b[0;34m(\u001b[0m\u001b[0;34m)\u001b[0m \u001b[0;31m# Hz/s\u001b[0m\u001b[0;34m\u001b[0m\u001b[0;34m\u001b[0m\u001b[0m\n\u001b[0m\u001b[1;32m     69\u001b[0m         \u001b[0mobs_length\u001b[0m \u001b[0;34m=\u001b[0m \u001b[0mhits\u001b[0m\u001b[0;34m[\u001b[0m\u001b[0;36m5\u001b[0m\u001b[0;34m]\u001b[0m\u001b[0;34m.\u001b[0m\u001b[0mstrip\u001b[0m\u001b[0;34m(\u001b[0m\u001b[0;34m)\u001b[0m\u001b[0;34m.\u001b[0m\u001b[0msplit\u001b[0m\u001b[0;34m(\u001b[0m\u001b[0;34m'\\t'\u001b[0m\u001b[0;34m)\u001b[0m\u001b[0;34m[\u001b[0m\u001b[0;36m3\u001b[0m\u001b[0;34m]\u001b[0m\u001b[0;34m.\u001b[0m\u001b[0msplit\u001b[0m\u001b[0;34m(\u001b[0m\u001b[0;34m':'\u001b[0m\u001b[0;34m)\u001b[0m\u001b[0;34m[\u001b[0m\u001b[0;34m-\u001b[0m\u001b[0;36m1\u001b[0m\u001b[0;34m]\u001b[0m\u001b[0;34m.\u001b[0m\u001b[0mstrip\u001b[0m\u001b[0;34m(\u001b[0m\u001b[0;34m)\u001b[0m \u001b[0;31m# s\u001b[0m\u001b[0;34m\u001b[0m\u001b[0;34m\u001b[0m\u001b[0m\n",
      "\u001b[0;31mIndexError\u001b[0m: list index out of range",
      "\nThe above exception was the direct cause of the following exception:\n",
      "\u001b[0;31mRuntimeError\u001b[0m                              Traceback (most recent call last)",
      "\u001b[0;32m<ipython-input-2-dacecb1ea5a9>\u001b[0m in \u001b[0;36m<module>\u001b[0;34m\u001b[0m\n\u001b[1;32m      1\u001b[0m \u001b[0moutdir\u001b[0m \u001b[0;34m=\u001b[0m \u001b[0;34m'/datax/scratch/noahf/turboSETI-outFiles/TOI-TIC344926234/'\u001b[0m\u001b[0;34m\u001b[0m\u001b[0;34m\u001b[0m\u001b[0m\n\u001b[0;32m----> 2\u001b[0;31m \u001b[0mFindPlotEvents\u001b[0m\u001b[0;34m(\u001b[0m\u001b[0moutdir\u001b[0m\u001b[0;34m)\u001b[0m\u001b[0;34m\u001b[0m\u001b[0;34m\u001b[0m\u001b[0m\n\u001b[0m",
      "\u001b[0;32m~/BL-TESSsearch/analysis/FindPlotEvents_pipeline.py\u001b[0m in \u001b[0;36mFindPlotEvents\u001b[0;34m(dataDir, threshold, transitTimes)\u001b[0m\n\u001b[1;32m    132\u001b[0m     \u001b[0mprint\u001b[0m\u001b[0;34m(\u001b[0m\u001b[0;34m'####################### Beginning Find Event Pipeline #######################'\u001b[0m\u001b[0;34m)\u001b[0m\u001b[0;34m\u001b[0m\u001b[0;34m\u001b[0m\u001b[0m\n\u001b[1;32m    133\u001b[0m     \u001b[0mcsvPath\u001b[0m \u001b[0;34m=\u001b[0m \u001b[0mos\u001b[0m\u001b[0;34m.\u001b[0m\u001b[0mpath\u001b[0m\u001b[0;34m.\u001b[0m\u001b[0mjoin\u001b[0m\u001b[0;34m(\u001b[0m\u001b[0mdataDir\u001b[0m\u001b[0;34m,\u001b[0m \u001b[0;34m'events-list.csv'\u001b[0m\u001b[0;34m)\u001b[0m\u001b[0;34m\u001b[0m\u001b[0;34m\u001b[0m\u001b[0m\n\u001b[0;32m--> 134\u001b[0;31m     \u001b[0mfind_event_pipeline\u001b[0m\u001b[0;34m(\u001b[0m\u001b[0mdatlistPath\u001b[0m\u001b[0;34m,\u001b[0m \u001b[0mfilter_threshold\u001b[0m\u001b[0;34m=\u001b[0m\u001b[0mthreshold\u001b[0m\u001b[0;34m,\u001b[0m \u001b[0mnumber_in_cadence\u001b[0m\u001b[0;34m=\u001b[0m\u001b[0mlen\u001b[0m\u001b[0;34m(\u001b[0m\u001b[0mdatlist\u001b[0m\u001b[0;34m)\u001b[0m\u001b[0;34m,\u001b[0m \u001b[0mcsv_name\u001b[0m\u001b[0;34m=\u001b[0m\u001b[0mcsvPath\u001b[0m\u001b[0;34m,\u001b[0m \u001b[0msaving\u001b[0m\u001b[0;34m=\u001b[0m\u001b[0;32mTrue\u001b[0m\u001b[0;34m)\u001b[0m\u001b[0;34m;\u001b[0m\u001b[0;34m\u001b[0m\u001b[0;34m\u001b[0m\u001b[0m\n\u001b[0m\u001b[1;32m    135\u001b[0m \u001b[0;34m\u001b[0m\u001b[0m\n\u001b[1;32m    136\u001b[0m     \u001b[0;31m# run plot_event_pipeline\u001b[0m\u001b[0;34m\u001b[0m\u001b[0;34m\u001b[0m\u001b[0;34m\u001b[0m\u001b[0m\n",
      "\u001b[0;32m~/miniconda3/envs/runTurbo/lib/python3.8/site-packages/turbo_seti/find_event/find_event_pipeline.py\u001b[0m in \u001b[0;36mfind_event_pipeline\u001b[0;34m(dat_file_list_str, SNR_cut, check_zero_drift, filter_threshold, on_off_first, number_in_cadence, on_source_complex_cadence, saving, csv_name, user_validation, sortby_tstart)\u001b[0m\n\u001b[1;32m    308\u001b[0m         \u001b[0mprint\u001b[0m\u001b[0;34m(\u001b[0m\u001b[0;34m\"*** First DAT file in set:  \"\u001b[0m \u001b[0;34m+\u001b[0m \u001b[0mfilename\u001b[0m \u001b[0;34m+\u001b[0m \u001b[0;34m\" ***\"\u001b[0m\u001b[0;34m)\u001b[0m\u001b[0;34m\u001b[0m\u001b[0;34m\u001b[0m\u001b[0m\n\u001b[1;32m    309\u001b[0m         \u001b[0mprint\u001b[0m\u001b[0;34m(\u001b[0m\u001b[0;34m)\u001b[0m\u001b[0;34m\u001b[0m\u001b[0;34m\u001b[0m\u001b[0m\n\u001b[0;32m--> 310\u001b[0;31m         cand = find_events(file_sublist,\n\u001b[0m\u001b[1;32m    311\u001b[0m                            \u001b[0mSNR_cut\u001b[0m\u001b[0;34m=\u001b[0m\u001b[0mSNR_cut\u001b[0m\u001b[0;34m,\u001b[0m\u001b[0;34m\u001b[0m\u001b[0;34m\u001b[0m\u001b[0m\n\u001b[1;32m    312\u001b[0m                            \u001b[0mcheck_zero_drift\u001b[0m\u001b[0;34m=\u001b[0m\u001b[0mcheck_zero_drift\u001b[0m\u001b[0;34m,\u001b[0m\u001b[0;34m\u001b[0m\u001b[0;34m\u001b[0m\u001b[0m\n",
      "\u001b[0;32m~/miniconda3/envs/runTurbo/lib/python3.8/site-packages/turbo_seti/find_event/find_event.py\u001b[0m in \u001b[0;36mfind_events\u001b[0;34m(dat_file_list, SNR_cut, check_zero_drift, filter_threshold, on_off_first, complex_cadence)\u001b[0m\n\u001b[1;32m    321\u001b[0m             \u001b[0;31m#Using read_dat function to read the .dat file\u001b[0m\u001b[0;34m\u001b[0m\u001b[0;34m\u001b[0m\u001b[0;34m\u001b[0m\u001b[0m\n\u001b[1;32m    322\u001b[0m             \u001b[0;31m#and create the pandas hit table for on sources\u001b[0m\u001b[0;34m\u001b[0m\u001b[0;34m\u001b[0m\u001b[0;34m\u001b[0m\u001b[0m\n\u001b[0;32m--> 323\u001b[0;31m             \u001b[0mon_table_i\u001b[0m \u001b[0;34m=\u001b[0m \u001b[0mread_dat\u001b[0m\u001b[0;34m(\u001b[0m\u001b[0mdat_file\u001b[0m\u001b[0;34m)\u001b[0m\u001b[0;34m\u001b[0m\u001b[0;34m\u001b[0m\u001b[0m\n\u001b[0m\u001b[1;32m    324\u001b[0m             \u001b[0mnhits\u001b[0m \u001b[0;34m=\u001b[0m \u001b[0mlen\u001b[0m\u001b[0;34m(\u001b[0m\u001b[0mon_table_i\u001b[0m\u001b[0;34m)\u001b[0m\u001b[0;34m\u001b[0m\u001b[0;34m\u001b[0m\u001b[0m\n\u001b[1;32m    325\u001b[0m             \u001b[0mprint\u001b[0m\u001b[0;34m(\u001b[0m\u001b[0;34m'Loaded %i hits from %s (ON)'\u001b[0m\u001b[0;34m%\u001b[0m\u001b[0;34m(\u001b[0m\u001b[0mnhits\u001b[0m\u001b[0;34m,\u001b[0m \u001b[0mdat_file\u001b[0m\u001b[0;34m)\u001b[0m\u001b[0;34m)\u001b[0m\u001b[0;34m\u001b[0m\u001b[0;34m\u001b[0m\u001b[0m\n",
      "\u001b[0;32m~/miniconda3/envs/runTurbo/lib/python3.8/site-packages/turbo_seti/find_event/find_event.py\u001b[0m in \u001b[0;36mread_dat\u001b[0;34m(filename)\u001b[0m\n\u001b[1;32m     71\u001b[0m         \u001b[0mmsg\u001b[0m \u001b[0;34m=\u001b[0m \u001b[0;34m'*** Out-of-date DAT file format detected in {}.  Rerun doppler search!'\u001b[0m\u001b[0;31m \u001b[0m\u001b[0;31m\\\u001b[0m\u001b[0;34m\u001b[0m\u001b[0;34m\u001b[0m\u001b[0m\n\u001b[1;32m     72\u001b[0m               \u001b[0;34m.\u001b[0m\u001b[0mformat\u001b[0m\u001b[0;34m(\u001b[0m\u001b[0mfilename\u001b[0m\u001b[0;34m)\u001b[0m\u001b[0;34m\u001b[0m\u001b[0;34m\u001b[0m\u001b[0m\n\u001b[0;32m---> 73\u001b[0;31m         \u001b[0;32mraise\u001b[0m \u001b[0mRuntimeError\u001b[0m\u001b[0;34m(\u001b[0m\u001b[0mmsg\u001b[0m\u001b[0;34m)\u001b[0m \u001b[0;32mfrom\u001b[0m \u001b[0mexc\u001b[0m\u001b[0;34m\u001b[0m\u001b[0;34m\u001b[0m\u001b[0m\n\u001b[0m\u001b[1;32m     74\u001b[0m \u001b[0;34m\u001b[0m\u001b[0m\n\u001b[1;32m     75\u001b[0m     \u001b[0;31m# Get info from individual hits (the body of the .dat file)\u001b[0m\u001b[0;34m\u001b[0m\u001b[0;34m\u001b[0m\u001b[0;34m\u001b[0m\u001b[0m\n",
      "\u001b[0;31mRuntimeError\u001b[0m: *** Out-of-date DAT file format detected in /datax/scratch/noahf/turboSETI-outFiles/TOI-TIC344926234/spliced_blc0001020304050607_guppi_58811_53010_TIC344926234_0023.gpuspec.0000.dat.  Rerun doppler search!"
     ]
    }
   ],
   "source": [
    "outdir = '/datax/scratch/noahf/turboSETI-outFiles/TOI-TIC344926234/'\n",
    "FindPlotEvents(outdir)"
   ]
  },
  {
   "cell_type": "code",
   "execution_count": null,
   "metadata": {},
   "outputs": [],
   "source": [
    "from turbo_seti.find_event.find_event import read_dat\n",
    "datfiles = ['spliced_blc0001020304050607_guppi_58811_53010_TIC344926234_0023.gpuspec.0000.dat',\n",
    "            'spliced_blc0001020304050607_guppi_58811_53324_HIP49458_0024.gpuspec.0000.dat',\n",
    "            'spliced_blc0001020304050607_guppi_58811_53638_TIC344926234_0025.gpuspec.0000.dat',\n",
    "            'spliced_blc0001020304050607_guppi_58811_53957_HIP49824_0026.gpuspec.0000.dat',\n",
    "            'spliced_blc0001020304050607_guppi_58811_54276_TIC344926234_0027.gpuspec.0000.dat',\n",
    "            'spliced_blc0001020304050607_guppi_58811_54593_HIP49692_0028.gpuspec.0000.dat']\n",
    "\n",
    "hitnum = 1815\n",
    "SNRs = []\n",
    "for ff in datfiles:\n",
    "    datfile = read_dat(os.path.join(datadir, ff)),\n",
    "    row = datfile[datfile['TopHitNum'] == hitnum],\n",
    "    SNRs.append(row[['SNR','Source']]),\n",
    "SNRs"
   ]
  },
  {
   "cell_type": "code",
   "execution_count": 3,
   "metadata": {},
   "outputs": [
    {
     "name": "stdout",
     "output_type": "stream",
     "text": [
      "Defaulting to user installation because normal site-packages is not writeable\n",
      "Collecting https://github.com/UCBerkeleySETI/blimpy/tarball/master\n",
      "  Downloading https://github.com/UCBerkeleySETI/blimpy/tarball/master\n",
      "\u001b[K     - 2.6 MB 2.8 MB/s\n",
      "\u001b[?25h  Installing build dependencies ... \u001b[?25ldone\n",
      "\u001b[?25h  Getting requirements to build wheel ... \u001b[?25ldone\n",
      "\u001b[?25h  Installing backend dependencies ... \u001b[?25ldone\n",
      "\u001b[?25h    Preparing wheel metadata ... \u001b[?25ldone\n",
      "\u001b[31mERROR: Could not find a version that satisfies the requirement 2.0.12 (from versions: none)\u001b[0m\n",
      "\u001b[31mERROR: No matching distribution found for 2.0.12\u001b[0m\n",
      "\u001b[?25h"
     ]
    }
   ],
   "source": [
    "!pip install -U https://github.com/UCBerkeleySETI/blimpy/tree/96b0ca2ef9b89bfc0136de2106b2ef982848a6ee"
   ]
  },
  {
   "cell_type": "code",
   "execution_count": null,
   "metadata": {},
   "outputs": [],
   "source": []
  }
 ],
 "metadata": {
  "kernelspec": {
   "display_name": "runTurbo",
   "language": "python",
   "name": "runturbo"
  },
  "language_info": {
   "codemirror_mode": {
    "name": "ipython",
    "version": 3
   },
   "file_extension": ".py",
   "mimetype": "text/x-python",
   "name": "python",
   "nbconvert_exporter": "python",
   "pygments_lexer": "ipython3",
   "version": "3.8.10"
  }
 },
 "nbformat": 4,
 "nbformat_minor": 4
}
