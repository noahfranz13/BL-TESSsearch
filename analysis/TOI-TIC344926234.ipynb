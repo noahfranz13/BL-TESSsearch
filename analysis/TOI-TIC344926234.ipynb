{
 "cells": [
  {
   "cell_type": "code",
   "execution_count": 1,
   "metadata": {},
   "outputs": [],
   "source": [
    "from FindPlotEvents_pipeline import FindPlotEvents\n",
    "%matplotlib inline"
   ]
  },
  {
   "cell_type": "code",
   "execution_count": 2,
   "metadata": {},
   "outputs": [],
   "source": [
    "def TransitTimes(ticid):\n",
    "    pass\n",
    "    "
   ]
  },
  {
   "cell_type": "code",
   "execution_count": 3,
   "metadata": {},
   "outputs": [
    {
     "name": "stdout",
     "output_type": "stream",
     "text": [
      "####################### Beginning Find Event Pipeline #######################\n",
      "\n",
      "************   BEGINNING FIND_EVENT PIPELINE   **************\n",
      "\n",
      "Assuming the first observation is an ON\n",
      "blimpy.io.base_reader INFO     Skipping loading data ...\n",
      "blimpy.io.base_reader INFO     Skipping loading data ...\n",
      "blimpy.io.base_reader INFO     Skipping loading data ...\n",
      "blimpy.io.base_reader INFO     Skipping loading data ...\n",
      "blimpy.io.base_reader INFO     Skipping loading data ...\n",
      "blimpy.io.base_reader INFO     Skipping loading data ...\n",
      "find_event_pipeline: file = spliced_blc0001020304050607_guppi_58811_53010_TIC344926234_0023.gpuspec.0000.dat, tstart = 58811.613541666666, source_name = TIC344926234\n",
      "find_event_pipeline: file = spliced_blc0001020304050607_guppi_58811_53324_HIP49458_0024.gpuspec.0000.dat, tstart = 58811.61717592592, source_name = HIP49458\n",
      "find_event_pipeline: file = spliced_blc0001020304050607_guppi_58811_53638_TIC344926234_0025.gpuspec.0000.dat, tstart = 58811.62081018519, source_name = TIC344926234\n",
      "find_event_pipeline: file = spliced_blc0001020304050607_guppi_58811_53957_HIP49824_0026.gpuspec.0000.dat, tstart = 58811.624502314815, source_name = HIP49824\n",
      "find_event_pipeline: file = spliced_blc0001020304050607_guppi_58811_54276_TIC344926234_0027.gpuspec.0000.dat, tstart = 58811.62819444444, source_name = TIC344926234\n",
      "find_event_pipeline: file = spliced_blc0001020304050607_guppi_58811_54593_HIP49692_0028.gpuspec.0000.dat, tstart = 58811.63186342592, source_name = HIP49692\n",
      "There are 6 total files in the filelist /datax/scratch/noahf/turboSETI-outFiles/TOI-TIC344926234/dat-list.lst\n",
      "therefore, looking for events in 1 on-off set(s)\n",
      "with a minimum SNR of 10\n",
      "Present in all ON sources with RFI rejection from the OFF sources\n",
      "not including signals with zero drift\n",
      "saving the output files\n",
      "\n",
      "*** First DAT file in set:  spliced_blc0001020304050607_guppi_58811_53010_TIC344926234_0023.gpuspec.0000.dat ***\n",
      "\n",
      "------   o   -------\n",
      "Loading data...\n",
      "Loaded 3445 hits from /datax/scratch/noahf/turboSETI-outFiles/TOI-TIC344926234/spliced_blc0001020304050607_guppi_58811_53010_TIC344926234_0023.gpuspec.0000.dat (ON)\n",
      "Loaded 3143 hits from /datax/scratch/noahf/turboSETI-outFiles/TOI-TIC344926234/spliced_blc0001020304050607_guppi_58811_53324_HIP49458_0024.gpuspec.0000.dat (OFF)\n",
      "Loaded 3846 hits from /datax/scratch/noahf/turboSETI-outFiles/TOI-TIC344926234/spliced_blc0001020304050607_guppi_58811_53638_TIC344926234_0025.gpuspec.0000.dat (ON)\n",
      "Loaded 3566 hits from /datax/scratch/noahf/turboSETI-outFiles/TOI-TIC344926234/spliced_blc0001020304050607_guppi_58811_53957_HIP49824_0026.gpuspec.0000.dat (OFF)\n",
      "Loaded 3629 hits from /datax/scratch/noahf/turboSETI-outFiles/TOI-TIC344926234/spliced_blc0001020304050607_guppi_58811_54276_TIC344926234_0027.gpuspec.0000.dat (ON)\n",
      "Loaded 3235 hits from /datax/scratch/noahf/turboSETI-outFiles/TOI-TIC344926234/spliced_blc0001020304050607_guppi_58811_54593_HIP49692_0028.gpuspec.0000.dat (OFF)\n",
      "All data loaded!\n",
      "\n",
      "Finding events in this cadence...\n",
      "Found a total of 10920 hits above the SNR cut in this cadence!\n",
      "Found a total of 1352 hits in only the on observations in this cadence!\n",
      "Found a total of 1 events across this cadence!\n",
      "Search time: 10.63 sec\n",
      "------   o   -------\n",
      "*** find_event_output_dataframe is complete ***\n",
      "find_event_pipeline: Saved CSV file to /datax/scratch/noahf/turboSETI-outFiles/TOI-TIC344926234/events-list.csv\n",
      "\n",
      "####################### Beginning Plot Event Pipeline #######################\n",
      "plot_event_pipeline: Opened file /datax/scratch/noahf/turboSETI-outFiles/TOI-TIC344926234/events-list.csv\n",
      "blimpy.io.base_reader INFO     Skipping loading data ...\n",
      "blimpy.io.base_reader INFO     Skipping loading data ...\n",
      "blimpy.io.base_reader INFO     Skipping loading data ...\n",
      "blimpy.io.base_reader INFO     Skipping loading data ...\n",
      "blimpy.io.base_reader INFO     Skipping loading data ...\n",
      "blimpy.io.base_reader INFO     Skipping loading data ...\n",
      "plot_event_pipeline: file = spliced_blc0001020304050607_guppi_58811_53010_TIC344926234_0023.gpuspec.0000.h5, tstart = 58811.613541666666, source_name = TIC344926234\n",
      "plot_event_pipeline: file = spliced_blc0001020304050607_guppi_58811_53324_HIP49458_0024.gpuspec.0000.h5, tstart = 58811.61717592592, source_name = HIP49458\n",
      "plot_event_pipeline: file = spliced_blc0001020304050607_guppi_58811_53638_TIC344926234_0025.gpuspec.0000.h5, tstart = 58811.62081018519, source_name = TIC344926234\n",
      "plot_event_pipeline: file = spliced_blc0001020304050607_guppi_58811_53957_HIP49824_0026.gpuspec.0000.h5, tstart = 58811.624502314815, source_name = HIP49824\n",
      "plot_event_pipeline: file = spliced_blc0001020304050607_guppi_58811_54276_TIC344926234_0027.gpuspec.0000.h5, tstart = 58811.62819444444, source_name = TIC344926234\n",
      "plot_event_pipeline: file = spliced_blc0001020304050607_guppi_58811_54593_HIP49692_0028.gpuspec.0000.h5, tstart = 58811.63186342592, source_name = HIP49692\n",
      "Plotting some events for:  TIC344926234\n",
      "There are 3 total events in the csv file /datax/scratch/noahf/turboSETI-outFiles/TOI-TIC344926234/events-list.csv\n",
      "therefore, you are about to make 3 .png files.\n",
      "blimpy.io.base_reader INFO     Skipping loading data ...\n",
      "blimpy.io.base_reader INFO     Skipping loading data ...\n"
     ]
    },
    {
     "ename": "AttributeError",
     "evalue": "module 'blimpy' has no attribute 'calcload'",
     "output_type": "error",
     "traceback": [
      "\u001b[0;31m---------------------------------------------------------------------------\u001b[0m",
      "\u001b[0;31mAttributeError\u001b[0m                            Traceback (most recent call last)",
      "\u001b[0;32m<ipython-input-3-b3707d48124e>\u001b[0m in \u001b[0;36m<module>\u001b[0;34m\u001b[0m\n\u001b[1;32m      1\u001b[0m \u001b[0mdatadir\u001b[0m \u001b[0;34m=\u001b[0m \u001b[0;34m'/datax/scratch/noahf/turboSETI-outFiles/TOI-TIC344926234/'\u001b[0m\u001b[0;34m\u001b[0m\u001b[0;34m\u001b[0m\u001b[0m\n\u001b[1;32m      2\u001b[0m \u001b[0;34m\u001b[0m\u001b[0m\n\u001b[0;32m----> 3\u001b[0;31m \u001b[0mFindPlotEvents\u001b[0m\u001b[0;34m(\u001b[0m\u001b[0mdatadir\u001b[0m\u001b[0;34m)\u001b[0m\u001b[0;34m\u001b[0m\u001b[0;34m\u001b[0m\u001b[0m\n\u001b[0m",
      "\u001b[0;32m~/BL-TESSsearch/analysis/FindPlotEvents_pipeline.py\u001b[0m in \u001b[0;36mFindPlotEvents\u001b[0;34m(dataDir, threshold, transitTimes)\u001b[0m\n\u001b[1;32m     42\u001b[0m     \u001b[0mprint\u001b[0m\u001b[0;34m(\u001b[0m\u001b[0;34m)\u001b[0m\u001b[0;34m\u001b[0m\u001b[0;34m\u001b[0m\u001b[0m\n\u001b[1;32m     43\u001b[0m     \u001b[0mprint\u001b[0m\u001b[0;34m(\u001b[0m\u001b[0;34m'####################### Beginning Plot Event Pipeline #######################'\u001b[0m\u001b[0;34m)\u001b[0m\u001b[0;34m\u001b[0m\u001b[0;34m\u001b[0m\u001b[0m\n\u001b[0;32m---> 44\u001b[0;31m     \u001b[0mplot_event_pipeline\u001b[0m\u001b[0;34m(\u001b[0m\u001b[0mcsvPath\u001b[0m\u001b[0;34m,\u001b[0m \u001b[0mh5listPath\u001b[0m\u001b[0;34m,\u001b[0m \u001b[0mfilter_spec\u001b[0m\u001b[0;34m=\u001b[0m\u001b[0;34mf'{threshold}'\u001b[0m\u001b[0;34m,\u001b[0m \u001b[0muser_validation\u001b[0m\u001b[0;34m=\u001b[0m\u001b[0;32mFalse\u001b[0m\u001b[0;34m,\u001b[0m \u001b[0mtransit_times\u001b[0m\u001b[0;34m=\u001b[0m\u001b[0mtransitTimes\u001b[0m\u001b[0;34m)\u001b[0m\u001b[0;34m\u001b[0m\u001b[0;34m\u001b[0m\u001b[0m\n\u001b[0m\u001b[1;32m     45\u001b[0m     \u001b[0;31m#plot_event_pipeline(csvPath, h5listPath, filter_spec=f'{threshold}', user_validation=False)\u001b[0m\u001b[0;34m\u001b[0m\u001b[0;34m\u001b[0m\u001b[0;34m\u001b[0m\u001b[0m\n",
      "\u001b[0;32m~/BL-TESSsearch/analysis/noahf_plot_event_pipeline.py\u001b[0m in \u001b[0;36mplot_event_pipeline\u001b[0;34m(event_csv_string, fils_list_string, user_validation, offset, filter_spec, sortby_tstart, plot_dir, transit_times)\u001b[0m\n\u001b[1;32m    150\u001b[0m                                    \u001b[0moffset\u001b[0m\u001b[0;34m=\u001b[0m\u001b[0moffset\u001b[0m\u001b[0;34m,\u001b[0m\u001b[0;34m\u001b[0m\u001b[0;34m\u001b[0m\u001b[0m\n\u001b[1;32m    151\u001b[0m                                    \u001b[0mplot_dir\u001b[0m\u001b[0;34m=\u001b[0m\u001b[0mplot_dir\u001b[0m\u001b[0;34m,\u001b[0m\u001b[0;34m\u001b[0m\u001b[0;34m\u001b[0m\u001b[0m\n\u001b[0;32m--> 152\u001b[0;31m                                    transit=transit_times)\n\u001b[0m",
      "\u001b[0;32m~/BL-TESSsearch/analysis/noahf_plot_event.py\u001b[0m in \u001b[0;36mplot_candidate_events\u001b[0;34m(candidate_event_dataframe, fil_file_list, filter_level, source_name_list, offset, plot_dir, transit, **kwargs)\u001b[0m\n\u001b[1;32m    422\u001b[0m                              \u001b[0mplot_dir\u001b[0m\u001b[0;34m=\u001b[0m\u001b[0mplot_dir\u001b[0m\u001b[0;34m,\u001b[0m\u001b[0;34m\u001b[0m\u001b[0;34m\u001b[0m\u001b[0m\n\u001b[1;32m    423\u001b[0m                              \u001b[0mplotTransit\u001b[0m\u001b[0;34m=\u001b[0m\u001b[0mtransit\u001b[0m\u001b[0;34m,\u001b[0m\u001b[0;34m\u001b[0m\u001b[0;34m\u001b[0m\u001b[0m\n\u001b[0;32m--> 424\u001b[0;31m                              **kwargs)\n\u001b[0m",
      "\u001b[0;32m~/BL-TESSsearch/analysis/noahf_plot_event.py\u001b[0m in \u001b[0;36mmake_waterfall_plots\u001b[0;34m(fil_file_list, on_source_name, f_start, f_stop, drift_rate, f_mid, filter_level, source_name_list, offset, plot_dir, plotTransit, **kwargs)\u001b[0m\n\u001b[1;32m    210\u001b[0m \u001b[0;34m\u001b[0m\u001b[0m\n\u001b[1;32m    211\u001b[0m     \u001b[0;31m# read in data for the first panel\u001b[0m\u001b[0;34m\u001b[0m\u001b[0;34m\u001b[0m\u001b[0;34m\u001b[0m\u001b[0m\n\u001b[0;32m--> 212\u001b[0;31m     \u001b[0mmax_load\u001b[0m \u001b[0;34m=\u001b[0m \u001b[0mbl\u001b[0m\u001b[0;34m.\u001b[0m\u001b[0mcalcload\u001b[0m\u001b[0;34m.\u001b[0m\u001b[0mcalc_max_load\u001b[0m\u001b[0;34m(\u001b[0m\u001b[0mfil_file_list\u001b[0m\u001b[0;34m[\u001b[0m\u001b[0;36m0\u001b[0m\u001b[0;34m]\u001b[0m\u001b[0;34m)\u001b[0m\u001b[0;34m\u001b[0m\u001b[0;34m\u001b[0m\u001b[0m\n\u001b[0m\u001b[1;32m    213\u001b[0m     \u001b[0;31m#print('plot_event make_waterfall_plots: max_load={} is required for {}'.format(max_load, fil_file_list[0]))\u001b[0m\u001b[0;34m\u001b[0m\u001b[0;34m\u001b[0m\u001b[0;34m\u001b[0m\u001b[0m\n\u001b[1;32m    214\u001b[0m     \u001b[0mwf1\u001b[0m \u001b[0;34m=\u001b[0m \u001b[0mbl\u001b[0m\u001b[0;34m.\u001b[0m\u001b[0mWaterfall\u001b[0m\u001b[0;34m(\u001b[0m\u001b[0mfil_file_list\u001b[0m\u001b[0;34m[\u001b[0m\u001b[0;36m0\u001b[0m\u001b[0;34m]\u001b[0m\u001b[0;34m,\u001b[0m \u001b[0mf_start\u001b[0m\u001b[0;34m=\u001b[0m\u001b[0mf_start\u001b[0m\u001b[0;34m,\u001b[0m \u001b[0mf_stop\u001b[0m\u001b[0;34m=\u001b[0m\u001b[0mf_stop\u001b[0m\u001b[0;34m,\u001b[0m \u001b[0mmax_load\u001b[0m\u001b[0;34m=\u001b[0m\u001b[0mmax_load\u001b[0m\u001b[0;34m)\u001b[0m\u001b[0;34m\u001b[0m\u001b[0;34m\u001b[0m\u001b[0m\n",
      "\u001b[0;31mAttributeError\u001b[0m: module 'blimpy' has no attribute 'calcload'"
     ]
    }
   ],
   "source": [
    "datadir = '/datax/scratch/noahf/turboSETI-outFiles/TOI-TIC344926234/'\n",
    "\n",
    "FindPlotEvents(datadir)"
   ]
  },
  {
   "cell_type": "code",
   "execution_count": null,
   "metadata": {},
   "outputs": [],
   "source": [
    "import pandas as pd\n",
    "import os\n",
    "eventsList = pd.read_csv(os.path.join(datadir, 'events-list.csv'))\n",
    "eventsList"
   ]
  },
  {
   "cell_type": "code",
   "execution_count": null,
   "metadata": {},
   "outputs": [],
   "source": [
    "from turbo_seti.find_event.find_event import read_dat\n",
    "\n",
    "datfiles = ['spliced_blc0001020304050607_guppi_58811_53010_TIC344926234_0023.gpuspec.0000.dat',\n",
    "           'spliced_blc0001020304050607_guppi_58811_53324_HIP49458_0024.gpuspec.0000.dat',\n",
    "           'spliced_blc0001020304050607_guppi_58811_53638_TIC344926234_0025.gpuspec.0000.dat',\n",
    "           'spliced_blc0001020304050607_guppi_58811_53957_HIP49824_0026.gpuspec.0000.dat',\n",
    "           'spliced_blc0001020304050607_guppi_58811_54276_TIC344926234_0027.gpuspec.0000.dat',\n",
    "           'spliced_blc0001020304050607_guppi_58811_54593_HIP49692_0028.gpuspec.0000.dat']\n",
    "\n",
    "hitnum = 1815\n",
    "SNRs = []\n",
    "for ff in datfiles:\n",
    "    datfile = read_dat(os.path.join(datadir, ff))\n",
    "    row = datfile[datfile['TopHitNum'] == hitnum]\n",
    "    SNRs.append(row[['SNR','Source']])\n",
    "    \n",
    "SNRs"
   ]
  },
  {
   "cell_type": "code",
   "execution_count": null,
   "metadata": {},
   "outputs": [],
   "source": []
  }
 ],
 "metadata": {
  "kernelspec": {
   "display_name": "Python 3",
   "language": "python",
   "name": "python3"
  },
  "language_info": {
   "codemirror_mode": {
    "name": "ipython",
    "version": 3
   },
   "file_extension": ".py",
   "mimetype": "text/x-python",
   "name": "python",
   "nbconvert_exporter": "python",
   "pygments_lexer": "ipython3",
   "version": "3.7.6"
  }
 },
 "nbformat": 4,
 "nbformat_minor": 4
}
